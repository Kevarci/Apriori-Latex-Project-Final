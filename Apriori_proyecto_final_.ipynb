{
  "nbformat": 4,
  "nbformat_minor": 0,
  "metadata": {
    "colab": {
      "provenance": []
    },
    "kernelspec": {
      "name": "python3",
      "display_name": "Python 3"
    },
    "language_info": {
      "name": "python"
    }
  },
  "cells": [
    {
      "cell_type": "code",
      "source": [
        "# Manipulación de datos\n",
        "import pandas as pd\n",
        "import numpy as np\n",
        "\n",
        "# Utilidades generales\n",
        "import time\n",
        "import os\n",
        "from itertools import combinations\n",
        "\n",
        "# Visualización\n",
        "import matplotlib.pyplot as plt\n",
        "import plotly.express as px\n",
        "import networkx as nx\n",
        "import plotly.graph_objects as go\n",
        "\n",
        "# Algoritmos y matrices\n",
        "from scipy.sparse import csr_matrix\n",
        "from mlxtend.frequent_patterns import apriori, association_rules\n",
        "from mlxtend.preprocessing import TransactionEncoder"
      ],
      "metadata": {
        "id": "FxRKzfo5fsAw"
      },
      "execution_count": null,
      "outputs": []
    },
    {
      "cell_type": "markdown",
      "source": [
        "Preprocesamiento y limpieza de datasets"
      ],
      "metadata": {
        "id": "CDc0KrMFncQe"
      }
    },
    {
      "cell_type": "code",
      "source": [
        "#Cargar datases\n",
        "orders= pd.read_csv('order_products__train.csv')\n",
        "products = pd.read_csv('products.csv')\n",
        "\n",
        "# Limpieza de la base de datos\n",
        "products['product_name'] = products['product_name'].replace(\n",
        "    to_replace=\"[^a-zA-Z\\\\d\\\\s]+\",\n",
        "    value=\"~\",\n",
        "    regex=True\n",
        ").str.lower().str.strip()\n",
        "\n"
      ],
      "metadata": {
        "id": "TJuX5b88Fdzn"
      },
      "execution_count": null,
      "outputs": []
    },
    {
      "cell_type": "code",
      "source": [
        "# Mege y agrupación por No de  orden\n",
        "dfMerged = pd.merge(orders, products, on=\"product_id\", how=\"inner\")\n",
        "dfMerged = dfMerged.sort_values(\"order_id\").reset_index(drop=True)\n",
        "\n",
        "# Agrupar productos por transacción (cada pedido (order_id) se agrupa en una lista de productos)\n",
        "transactions = dfMerged.groupby('order_id')['product_name'].apply(list).tolist()\n",
        "\n",
        "for t in transactions[:5]:\n",
        "    print(t)\n"
      ],
      "metadata": {
        "colab": {
          "base_uri": "https://localhost:8080/"
        },
        "id": "KIRVdFtem5ZS",
        "outputId": "4e702d86-ea99-48e5-c2c3-497faaab80db"
      },
      "execution_count": null,
      "outputs": [
        {
          "output_type": "stream",
          "name": "stdout",
          "text": [
            "['bulgarian yogurt', 'organic 4~ milk fat whole milk cottage cheese', 'cucumber kirby', 'organic celery hearts', 'lightly smoked sardines in olive oil', 'organic hass avocado', 'bag of organic bananas', 'organic whole string cheese']\n",
            "['grated pecorino romano cheese', 'spring water', 'super greens salad', 'cage free extra large grade aa eggs', 'prosciutto~ americano', 'organic garnet sweet potato ~yam~', 'asparagus', 'organic half ~ half']\n",
            "['shelled pistachios', 'organic raw unfiltered apple cider vinegar', 'organic hot house tomato', 'organic baby arugula', 'green peas', 'bunched cilantro', 'flat parsley~ bunch', 'organic biologique limes', 'fresh dill']\n",
            "['organic raspberries', 'organic whole strawberries', 'organic blueberries', 'organic grape tomatoes', 'organic cucumber', 'roasted turkey', 'organic pomegranate kernels']\n",
            "['natural spring water', 'organic unsweetened almond milk', 'tomatoes~ crushed~ organic', 'organic sliced provalone cheese', 'organic chocolate almondmilk pudding', 'bag of organic bananas', 'whole milk greek blended vanilla bean yogurt', 'organic orange juice with calcium ~ vitamin d', 'guacamole', 'uncured applewood smoked bacon', 'organic extra virgin oil olive', 'organic raspberries', 'black beans', 'organic seasoned yukon select potatoes hashed browns', 'geranium liquid dish soap', 'organic ketchup', 'raspberry sorbet pops', '100~ organic unbleached all~purpose flour', 'lavender scent laundry detergent', 'organic italian parsley bunch', 'organic garlic', 'organic raw kombucha gingerade', 'organic 2~ buttermilk', 'organic cinnamon apple sauce', 'unsalted cultured butter', 'organic hothouse cucumbers', 'black beans no salt added', 'uncured genoa salami', 'sliced pepperoni', 'natural chicken ~ maple breakfast sausage patty', 'queso fresco', 'crackers~ oyster', 'organic free range chicken broth', 'organic yellow onion', 'organic zucchini', 'organic whole grassmilk milk', 'mild diced green chiles', 'pinto beans no salt added', 'organic lemonade', 'corn maize tortillas', 'organic corn starch', 'olive oil ~ aloe vera hand soap', 'plastic spoons', 'aluminum foil', 'plastic wrap', 'organic coconut milk', 'garbanzo beans', 'organic stringles mozzarella string cheese', 'baby swiss slices cheese']\n"
          ]
        }
      ]
    },
    {
      "cell_type": "code",
      "source": [
        "# Exportando las transacciones a CSV (formato basket) para su uso posterior en R.\n",
        "\n",
        "output_csv = \"TransactionsInstacart.csv\"\n",
        "with open(output_csv, \"w\", newline=\"\", encoding=\"utf-8\") as f:\n",
        "    for trans in transactions:\n",
        "        f.write(\",\".join(trans) + \"\\n\")\n",
        "print(f\"Transacciones exportadas a '{output_csv}'.\")\n"
      ],
      "metadata": {
        "colab": {
          "base_uri": "https://localhost:8080/"
        },
        "id": "BYUfcZpVmHlu",
        "outputId": "d4e05560-4159-44b9-9d2a-ae466575c614"
      },
      "execution_count": null,
      "outputs": [
        {
          "output_type": "stream",
          "name": "stdout",
          "text": [
            "Transacciones exportadas a 'TransactionsInstacart.csv'.\n"
          ]
        }
      ]
    },
    {
      "cell_type": "markdown",
      "source": [
        "Creacion de Martiz dispersa"
      ],
      "metadata": {
        "id": "5jsK5grAnkBL"
      }
    },
    {
      "cell_type": "code",
      "source": [
        "# Se crea un mapeo de cada producto a un índice.\n",
        "item_mapping = {item: idx for idx, item in enumerate(sorted({item for transaction in transactions for item in transaction}))}\n",
        "\n",
        "# Recorremos cada transacción para construir las coordenadas (filas y columnas) en la matriz.\n",
        "rows, cols = [], []\n",
        "for row_idx, trans in enumerate(transactions):\n",
        "    for item in trans:\n",
        "        rows.append(row_idx)\n",
        "        cols.append(item_mapping[item])\n",
        "\n",
        "order_matrix_sparse = csr_matrix(([1] * len(rows), (rows, cols)), shape=(len(transactions), len(item_mapping)))\n",
        "print(f\"Matriz dispersa creada con forma: {order_matrix_sparse.shape}\")"
      ],
      "metadata": {
        "colab": {
          "base_uri": "https://localhost:8080/"
        },
        "id": "-1u2rrTRP5Ro",
        "outputId": "efa15abc-80fb-47aa-ed56-e2e2c5a131bb"
      },
      "execution_count": null,
      "outputs": [
        {
          "output_type": "stream",
          "name": "stdout",
          "text": [
            "Matriz dispersa creada con forma: (131209, 39043)\n"
          ]
        }
      ]
    },
    {
      "cell_type": "code",
      "source": [
        "# Convertir la matriz dispersa a una lista de transacciones (lista de productos comprados)\n",
        "transactions_list = []\n",
        "for row in order_matrix_sparse:\n",
        "    non_zero_indices = row.nonzero()[1]  # Encuentra los índices no cero\n",
        "    transaction = [list(item_mapping.keys())[index] for index in non_zero_indices]\n",
        "    transactions_list.append(transaction)"
      ],
      "metadata": {
        "id": "846ZdFUgFkuJ"
      },
      "execution_count": null,
      "outputs": []
    },
    {
      "cell_type": "markdown",
      "source": [
        "Implementación Manual del Algoritmo Apriori en Python (Procesamiento por Lotes)"
      ],
      "metadata": {
        "id": "6crHPNcIqITy"
      }
    },
    {
      "cell_type": "code",
      "source": [
        "def generar_candidatos(itemsets_frecuentes_k, k, max_candidates=100000, support_dict=None):\n",
        "    \"\"\"\n",
        "    Genera candidatos (k+1)-itemsets a partir de itemsets frecuentes de tamaño k.\n",
        "    Aplica límites si hay demasiados itemsets y usa un índice por prefijo para mayor eficiencia.\n",
        "    \"\"\"\n",
        "    if len(itemsets_frecuentes_k) > 1000:\n",
        "        print(f\"Demasiados itemsets frecuentes ({len(itemsets_frecuentes_k)}). Limitando a los 1000 más frecuentes.\")\n",
        "        if support_dict:\n",
        "            itemsets_frecuentes_k = sorted(itemsets_frecuentes_k,\n",
        "                                           key=lambda x: support_dict.get(tuple(x), 0),\n",
        "                                           reverse=True)[:1000]\n",
        "        else:\n",
        "            itemsets_frecuentes_k = itemsets_frecuentes_k[:1000]\n",
        "\n",
        "    n = len(itemsets_frecuentes_k)\n",
        "    estimated_candidates = n * (n - 1) // 2\n",
        "    if estimated_candidates > max_candidates:\n",
        "        reduction_factor = max_candidates / estimated_candidates\n",
        "        limit = int(n * (reduction_factor ** 0.5))\n",
        "        print(f\"Estimación de candidatos ({estimated_candidates}) excede el máximo. Limitando a {limit} itemsets.\")\n",
        "        if support_dict:\n",
        "            itemsets_frecuentes_k = sorted(itemsets_frecuentes_k,\n",
        "                                           key=lambda x: support_dict.get(tuple(x), 0),\n",
        "                                           reverse=True)[:limit]\n",
        "        else:\n",
        "            itemsets_frecuentes_k = itemsets_frecuentes_k[:limit]\n",
        "        n = len(itemsets_frecuentes_k)\n",
        "\n",
        "    candidatos_set = set()\n",
        "    if k == 1:\n",
        "        for i in range(n):\n",
        "            for j in range(i+1, n):\n",
        "                candidato = tuple(sorted([itemsets_frecuentes_k[i][0], itemsets_frecuentes_k[j][0]]))\n",
        "                candidatos_set.add(candidato)\n",
        "    else:\n",
        "        # Crear índice por prefijo (los primeros k-1 elementos)\n",
        "        prefix_index = {}\n",
        "        for idx, itemset in enumerate(itemsets_frecuentes_k):\n",
        "            prefix = tuple(itemset[:k-1])\n",
        "            prefix_index.setdefault(prefix, []).append(idx)\n",
        "        for prefix, indices in prefix_index.items():\n",
        "            if len(indices) > 1:\n",
        "                for i in range(len(indices)):\n",
        "                    for j in range(i+1, len(indices)):\n",
        "                        idx1, idx2 = indices[i], indices[j]\n",
        "                        candidato = list(prefix) + [itemsets_frecuentes_k[idx1][k-1],\n",
        "                                                    itemsets_frecuentes_k[idx2][k-1]]\n",
        "                        candidato.sort()\n",
        "                        candidatos_set.add(tuple(candidato))\n",
        "\n",
        "    candidatos_unicos = [list(x) for x in candidatos_set]\n",
        "    if len(candidatos_unicos) > max_candidates:\n",
        "        print(f\"Aún hay demasiados candidatos ({len(candidatos_unicos)}). Limitando a {max_candidates}.\")\n",
        "        candidatos_unicos = candidatos_unicos[:max_candidates]\n",
        "\n",
        "    return candidatos_unicos\n",
        "\n",
        "#Optimización en lugar de usar sorted en cada iteración dentro de all , se preordenan los candidatos y se optimiza la comparación\n",
        "def poda_apriori(candidatos, itemsets_frecuentes_k, k):\n",
        "    \"\"\"\n",
        "    Poda candidatos eliminando aquellos cuyo subconjunto (de tamaño k) no es frecuente.\n",
        "    \"\"\"\n",
        "    itemsets_frecuentes_set = set(tuple(sorted(x)) for x in itemsets_frecuentes_k)  # Preordena los itemsets frecuentes\n",
        "    candidatos_podados = [candidato for candidato in candidatos if all(tuple(sorted(candidato[:i] + candidato[i+1:])) in itemsets_frecuentes_set for i in range(len(candidato)))]\n",
        "    return candidatos_podados\n",
        "\n",
        "def apriori_lotes(transactions_list, min_support, batch_size=50000):\n",
        "    \"\"\"\n",
        "    Implementación manual del algoritmo Apriori usando procesamiento por lotes.\n",
        "    Calcula 1-itemsets y itemsets de mayor tamaño, usando un diccionario para los soportes.\n",
        "    \"\"\"\n",
        "    n_total = len(transactions_list)\n",
        "    print(f\"Procesando {n_total} transacciones con soporte mínimo {min_support}\")\n",
        "\n",
        "    # Fase 1: Contar 1-itemsets en lotes\n",
        "    item_counts = {}\n",
        "    n_batches = (n_total + batch_size - 1) // batch_size\n",
        "    print(f\"Fase 1: Generando 1-itemsets frecuentes en {n_batches} lotes.\")\n",
        "    for i in range(n_batches):\n",
        "        start_idx = i * batch_size\n",
        "        end_idx = min((i + 1) * batch_size, n_total)\n",
        "        print(f\"  Procesando lote {i+1}/{n_batches} (transacciones {start_idx} - {end_idx})\")\n",
        "        batch_transactions = transactions_list[start_idx:end_idx]\n",
        "        for transaction in batch_transactions:\n",
        "            for item in transaction:\n",
        "                item_counts[item] = item_counts.get(item, 0) + 1\n",
        "\n",
        "    frequent_1_itemsets = []\n",
        "    support_dict = {}\n",
        "    for item, count in item_counts.items():\n",
        "        support = count / n_total\n",
        "        if support >= min_support:\n",
        "            frequent_1_itemsets.append([item])\n",
        "            support_dict[tuple([item])] = support\n",
        "    print(f\"Se encontraron {len(frequent_1_itemsets)} 1-itemsets frecuentes.\")\n",
        "\n",
        "    all_frequent_itemsets = {1: frequent_1_itemsets}\n",
        "    k = 1\n",
        "    while all_frequent_itemsets.get(k, []):\n",
        "        print(f\"Fase {k+1}: Generando {k+1}-itemsets frecuentes.\")\n",
        "        if len(all_frequent_itemsets[k]) > 1000:\n",
        "            print(f\"  Demasiados itemsets frecuentes ({len(all_frequent_itemsets[k])}). Limitando a 1000 con mayor soporte.\")\n",
        "            sorted_itemsets = sorted(all_frequent_itemsets[k],\n",
        "                                     key=lambda x: support_dict.get(tuple(x), 0),\n",
        "                                     reverse=True)[:1000]\n",
        "            all_frequent_itemsets[k] = sorted_itemsets\n",
        "\n",
        "        candidatos = generar_candidatos(all_frequent_itemsets[k], k, support_dict=support_dict)\n",
        "        if len(candidatos) > 100000:\n",
        "            print(f\"  Demasiados candidatos ({len(candidatos)}). Aumentando temporalmente el umbral de soporte.\")\n",
        "            temp_min_support = min_support * 2\n",
        "            filtered_itemsets = [itemset for itemset in all_frequent_itemsets[k] if support_dict.get(tuple(itemset), 0) >= temp_min_support]\n",
        "            candidatos = generar_candidatos(filtered_itemsets, k, support_dict=support_dict)\n",
        "\n",
        "        candidatos_podados = poda_apriori(candidatos, all_frequent_itemsets[k], k)\n",
        "        print(f\"  Generados {len(candidatos)} candidatos, {len(candidatos_podados)} después de poda.\")\n",
        "        if not candidatos_podados:\n",
        "            break\n",
        "\n",
        "        # Contar soporte de candidatos en lotes\n",
        "        candidato_counts = {tuple(c): 0 for c in candidatos_podados}\n",
        "        for i in range(n_batches):\n",
        "            start_idx = i * batch_size\n",
        "            end_idx = min((i + 1) * batch_size, n_total)\n",
        "            print(f\"  Contando candidatos en lote {i+1}/{n_batches} (transacciones {start_idx} - {end_idx})\")\n",
        "            batch_transactions = transactions_list[start_idx:end_idx]\n",
        "            for transaction in batch_transactions:\n",
        "                transaction_set = set(transaction)\n",
        "                for candidato in candidatos_podados:\n",
        "                    if all(item in transaction_set for item in candidato):\n",
        "                        candidato_counts[tuple(candidato)] += 1\n",
        "\n",
        "        frequent_itemsets_k_plus_1 = []\n",
        "        for candidato, count in candidato_counts.items():\n",
        "            support = count / n_total\n",
        "            if support >= min_support:\n",
        "                frequent_itemsets_k_plus_1.append(list(candidato))\n",
        "                support_dict[tuple(sorted(candidato))] = support\n",
        "\n",
        "        print(f\"  Se encontraron {len(frequent_itemsets_k_plus_1)} {k+1}-itemsets frecuentes.\")\n",
        "        if frequent_itemsets_k_plus_1:\n",
        "            all_frequent_itemsets[k+1] = frequent_itemsets_k_plus_1\n",
        "            k += 1\n",
        "        else:\n",
        "            break\n",
        "    return all_frequent_itemsets, support_dict\n",
        "\n",
        "def generar_reglas(itemsets_frecuentes, support_dict, min_confidence=0.3):\n",
        "    \"\"\"\n",
        "    Genera reglas de asociación a partir de itemsets frecuentes.\n",
        "    Para cada itemset (de tamaño >= 2), genera todas las posibles divisiones:\n",
        "    antecedente y consecuente, calcula métricas (soporte, confianza, lift) y\n",
        "    retorna un DataFrame con las reglas ordenadas por lift.\n",
        "    \"\"\"\n",
        "    rules = []\n",
        "    for k in range(2, len(itemsets_frecuentes) + 1):\n",
        "        if k not in itemsets_frecuentes:\n",
        "            continue\n",
        "        for itemset in itemsets_frecuentes[k]:\n",
        "            itemset_support = support_dict.get(tuple(sorted(itemset)), 0)\n",
        "            for i in range(1, len(itemset)):\n",
        "                for antecedente_items in combinations(itemset, i):\n",
        "                    antecedente = list(antecedente_items)\n",
        "                    consecuente = [item for item in itemset if item not in antecedente]\n",
        "                    if not antecedente or not consecuente:\n",
        "                        continue\n",
        "                    antecedente_support = support_dict.get(tuple(sorted(antecedente)), 0)\n",
        "                    if antecedente_support == 0:\n",
        "                        continue\n",
        "                    confidence = itemset_support / antecedente_support\n",
        "                    if confidence >= min_confidence:\n",
        "                        consecuente_support = support_dict.get(tuple(sorted(consecuente)), 0)\n",
        "                        if consecuente_support == 0:\n",
        "                            continue\n",
        "                        lift = confidence / consecuente_support\n",
        "                        rules.append({\n",
        "                            'antecedent': antecedente,\n",
        "                            'consequent': consecuente,\n",
        "                            'support': itemset_support,\n",
        "                            'confidence': confidence,\n",
        "                            'lift': lift\n",
        "                        })\n",
        "    if rules:\n",
        "        rulesDf = pd.DataFrame(rules)\n",
        "        rulesDf = rulesDf.sort_values('lift', ascending=False).reset_index(drop=True)\n",
        "        return rulesDf\n",
        "    else:\n",
        "        return pd.DataFrame(columns=['antecedent', 'consequent', 'support', 'confidence', 'lift'])\n",
        "\n"
      ],
      "metadata": {
        "id": "PhNuHd-0J58I"
      },
      "execution_count": null,
      "outputs": []
    },
    {
      "cell_type": "markdown",
      "source": [
        "Ejecución de Apriori Manual"
      ],
      "metadata": {
        "id": "SDZd_ugAsBFB"
      }
    },
    {
      "cell_type": "code",
      "source": [
        "# Ejecutar el algoritmo Apriori manual\n",
        "min_support = 0.01\n",
        "min_confidence = 0.3\n",
        "\n",
        "# Aquí usamos la lista de transacciones obtenida antes\n",
        "transactions_list = transactions\n",
        "\n",
        "start_time = time.time()\n",
        "\n",
        "all_frequent_itemsets, support_dict = apriori_lotes(transactions_list, min_support)\n",
        "\n",
        "# Generar reglas a partir de los itemsets frecuentes\n",
        "rules_manual = generar_reglas(all_frequent_itemsets, support_dict, min_confidence=0.3)\n",
        "print(\"\\nReglas generadas manualmente (primeras 5):\")\n",
        "print(rules_manual.head())\n",
        "\n",
        "\n",
        "manual_time = time.time() - start_time\n",
        "print(f\"\\nTiempo total del Apriori manual (itemsets + reglas): {manual_time:.2f} segundos\")\n",
        "\n",
        "\n",
        "print(\"\\nReglas generadas manualmente (primeras 5):\")\n",
        "print(rules_manual.head())\n"
      ],
      "metadata": {
        "id": "kAC5XkAHFyi6",
        "colab": {
          "base_uri": "https://localhost:8080/"
        },
        "outputId": "07601455-ada1-4e10-fec6-eaf412b82238"
      },
      "execution_count": null,
      "outputs": [
        {
          "output_type": "stream",
          "name": "stdout",
          "text": [
            "Procesando 131209 transacciones con soporte mínimo 0.01\n",
            "Fase 1: Generando 1-itemsets frecuentes en 3 lotes.\n",
            "  Procesando lote 1/3 (transacciones 0 - 50000)\n",
            "  Procesando lote 2/3 (transacciones 50000 - 100000)\n",
            "  Procesando lote 3/3 (transacciones 100000 - 131209)\n",
            "Se encontraron 104 1-itemsets frecuentes.\n",
            "Fase 2: Generando 2-itemsets frecuentes.\n",
            "  Generados 5356 candidatos, 5356 después de poda.\n",
            "  Contando candidatos en lote 1/3 (transacciones 0 - 50000)\n",
            "  Contando candidatos en lote 2/3 (transacciones 50000 - 100000)\n",
            "  Contando candidatos en lote 3/3 (transacciones 100000 - 131209)\n",
            "  Se encontraron 16 2-itemsets frecuentes.\n",
            "Fase 3: Generando 3-itemsets frecuentes.\n",
            "  Generados 22 candidatos, 7 después de poda.\n",
            "  Contando candidatos en lote 1/3 (transacciones 0 - 50000)\n",
            "  Contando candidatos en lote 2/3 (transacciones 50000 - 100000)\n",
            "  Contando candidatos en lote 3/3 (transacciones 100000 - 131209)\n",
            "  Se encontraron 0 3-itemsets frecuentes.\n",
            "\n",
            "Reglas generadas manualmente (primeras 5):\n",
            "               antecedent                consequent   support  confidence  \\\n",
            "0   [organic raspberries]    [organic strawberries]  0.012728    0.301118   \n",
            "1  [organic hass avocado]  [bag of organic bananas]  0.018444    0.331825   \n",
            "2   [organic raspberries]  [bag of organic bananas]  0.013566    0.320952   \n",
            "\n",
            "      lift  \n",
            "0  3.62671  \n",
            "1  2.81256  \n",
            "2  2.72040  \n",
            "\n",
            "Tiempo total del Apriori manual (itemsets + reglas): 393.19 segundos\n",
            "\n",
            "Reglas generadas manualmente (primeras 5):\n",
            "               antecedent                consequent   support  confidence  \\\n",
            "0   [organic raspberries]    [organic strawberries]  0.012728    0.301118   \n",
            "1  [organic hass avocado]  [bag of organic bananas]  0.018444    0.331825   \n",
            "2   [organic raspberries]  [bag of organic bananas]  0.013566    0.320952   \n",
            "\n",
            "      lift  \n",
            "0  3.62671  \n",
            "1  2.81256  \n",
            "2  2.72040  \n"
          ]
        }
      ]
    },
    {
      "cell_type": "markdown",
      "source": [
        "Ejecución de Apriori con mlxtend"
      ],
      "metadata": {
        "id": "5tr9FwwhslBD"
      }
    },
    {
      "cell_type": "code",
      "source": [
        "# Convertir la lista de transacciones en formato binarizado para la librería\n",
        "te = TransactionEncoder()\n",
        "te_ary = te.fit(transactions).transform(transactions)\n",
        "df = pd.DataFrame(te_ary, columns=te.columns_)\n",
        "\n",
        "# Cronometrar todo el flujo de Apriori con mlxtend\n",
        "start_time_mlxtend = time.time()\n",
        "\n",
        "# Generar itemsets frecuentes\n",
        "frequent_itemsets = apriori(df, min_support=min_support, use_colnames=True)\n",
        "\n",
        "# Generar reglas de asociación\n",
        "rules_mlxtend = association_rules(frequent_itemsets, metric=\"lift\", min_threshold=1)\n",
        "\n",
        "# Detener el cronómetro\n",
        "mlxtend_time = time.time() - start_time_mlxtend\n",
        "print(f\"\\nTiempo total del Apriori con mlxtend (itemsets + reglas): {mlxtend_time:.2f} segundos\")\n",
        "\n",
        "# Mostrar resultados\n",
        "print(\"\\nItemsets frecuentes generados con mlxtend:\")\n",
        "print(frequent_itemsets.head())\n",
        "print(\"\\nReglas generadas con mlxtend (primeras 5):\")\n",
        "print(rules_mlxtend.head())\n"
      ],
      "metadata": {
        "id": "CzolSQ25r-vX",
        "colab": {
          "base_uri": "https://localhost:8080/"
        },
        "outputId": "1dfa2d2b-59e0-41ca-eb38-fd874e0a6018"
      },
      "execution_count": null,
      "outputs": [
        {
          "output_type": "stream",
          "name": "stdout",
          "text": [
            "\n",
            "Tiempo total del Apriori con mlxtend (itemsets + reglas): 93.89 segundos\n",
            "\n",
            "Itemsets frecuentes generados con mlxtend:\n",
            "    support                    itemsets\n",
            "0  0.017514    (100~ whole wheat bread)\n",
            "1  0.011737       (2~ reduced fat milk)\n",
            "2  0.017163  (apple honeycrisp organic)\n",
            "3  0.029480                 (asparagus)\n",
            "4  0.117980    (bag of organic bananas)\n",
            "\n",
            "Reglas generadas con mlxtend (primeras 5):\n",
            "                antecedents               consequents  antecedent support  \\\n",
            "0  (bag of organic bananas)    (organic baby spinach)            0.117980   \n",
            "1    (organic baby spinach)  (bag of organic bananas)            0.074568   \n",
            "2    (organic hass avocado)  (bag of organic bananas)            0.055583   \n",
            "3  (bag of organic bananas)    (organic hass avocado)            0.117980   \n",
            "4     (organic raspberries)  (bag of organic bananas)            0.042268   \n",
            "\n",
            "   consequent support   support  confidence      lift  representativity  \\\n",
            "0            0.074568  0.017042    0.144444  1.937082               1.0   \n",
            "1            0.117980  0.017042    0.228536  1.937082               1.0   \n",
            "2            0.117980  0.018444    0.331825  2.812560               1.0   \n",
            "3            0.055583  0.018444    0.156331  2.812560               1.0   \n",
            "4            0.117980  0.013566    0.320952  2.720400               1.0   \n",
            "\n",
            "   leverage  conviction  zhangs_metric   jaccard  certainty  kulczynski  \n",
            "0  0.008244    1.081674       0.548468  0.097099   0.075507    0.186490  \n",
            "1  0.008244    1.143308       0.522739  0.097099   0.125345    0.186490  \n",
            "2  0.011886    1.320044       0.682381  0.118901   0.242449    0.244078  \n",
            "3  0.011886    1.119416       0.730654  0.118901   0.106677    0.244078  \n",
            "4  0.008579    1.298907       0.660318  0.092487   0.230122    0.217970  \n"
          ]
        }
      ]
    },
    {
      "cell_type": "markdown",
      "source": [
        "Entorno Híbrido con R"
      ],
      "metadata": {
        "id": "o1UNL6nIs3Oe"
      }
    },
    {
      "cell_type": "code",
      "source": [
        "!pip install rpy2\n"
      ],
      "metadata": {
        "id": "BkfUaoQMGBXC",
        "colab": {
          "base_uri": "https://localhost:8080/"
        },
        "outputId": "18dfe032-91ae-4ae1-8d47-609df66cace1"
      },
      "execution_count": null,
      "outputs": [
        {
          "output_type": "stream",
          "name": "stdout",
          "text": [
            "Requirement already satisfied: rpy2 in /usr/local/lib/python3.11/dist-packages (3.5.17)\n",
            "Requirement already satisfied: cffi>=1.15.1 in /usr/local/lib/python3.11/dist-packages (from rpy2) (1.17.1)\n",
            "Requirement already satisfied: jinja2 in /usr/local/lib/python3.11/dist-packages (from rpy2) (3.1.6)\n",
            "Requirement already satisfied: tzlocal in /usr/local/lib/python3.11/dist-packages (from rpy2) (5.3.1)\n",
            "Requirement already satisfied: pycparser in /usr/local/lib/python3.11/dist-packages (from cffi>=1.15.1->rpy2) (2.22)\n",
            "Requirement already satisfied: MarkupSafe>=2.0 in /usr/local/lib/python3.11/dist-packages (from jinja2->rpy2) (3.0.2)\n"
          ]
        }
      ]
    },
    {
      "cell_type": "code",
      "source": [
        "%load_ext rpy2.ipython"
      ],
      "metadata": {
        "id": "PXLv2YXdGDvB"
      },
      "execution_count": null,
      "outputs": []
    },
    {
      "cell_type": "code",
      "source": [
        "%%R -o r_execution_time,rules_df\n",
        "# Cargar el paquete arules\n",
        "if (!require(\"arules\")) {\n",
        "    install.packages(\"arules\", repos=\"http://cran.us.r-project.org\")\n",
        "    library(arules)\n",
        "}\n",
        "\n",
        "# Leer las transacciones desde el archivo exportado por Python\n",
        "baskets <- read.transactions(\"TransactionsInstacart.csv\", sep = \",\", format = \"basket\")\n",
        "\n",
        "# Visualizar la frecuencia de ítems\n",
        "itemFrequencyPlot(baskets, support = 0.055, main = \"Frecuencia de ítems (>= 5.5% soporte)\")\n",
        "start_r_time <- Sys.time()\n",
        "\n",
        "# Generar reglas de asociación con Apriori\n",
        "rules_r <- apriori(baskets, parameter = list(support = 0.001, confidence = 0.3, minlen = 2, maxlen = 15))\n",
        "rules_r <- sort(rules_r, by = \"lift\")\n",
        "\n",
        "# Detener el cronómetro\n",
        "end_r_time <- Sys.time()\n",
        "r_execution_time <- end_r_time - start_r_time\n",
        "print(paste(\"Tiempo total de procesamiento en R:\", r_execution_time, \"segundos\"))\n",
        "\n",
        "# Inspeccionar las primeras reglas\n",
        "inspect(rules_r[1:5])\n",
        "\n",
        "# Convertir las reglas en un data.frame y añadir columnas\n",
        "rules_df <- as(rules_r, \"data.frame\")\n",
        "rules_df$antecedent <- labels(lhs(rules_r))  # Extrae el lado izquierdo (lhs)\n",
        "rules_df$consequent <- labels(rhs(rules_r))  # Extrae el lado derecho (rhs)\n",
        "\n",
        "# Exportar a un archivo CSV\n",
        "write.csv(rules_df, file = \"rulesdatabase_r.csv\", row.names = FALSE, quote = TRUE)\n"
      ],
      "metadata": {
        "id": "oSNHZPqzGGdI",
        "colab": {
          "base_uri": "https://localhost:8080/",
          "height": 1000
        },
        "outputId": "697725a3-63bd-42c6-a826-7d23eeab10c5"
      },
      "execution_count": null,
      "outputs": [
        {
          "output_type": "stream",
          "name": "stdout",
          "text": [
            "Apriori\n",
            "\n",
            "Parameter specification:\n",
            " confidence minval smax arem  aval originalSupport maxtime support minlen\n",
            "        0.3    0.1    1 none FALSE            TRUE       5   0.001      2\n",
            " maxlen target  ext\n",
            "     15  rules TRUE\n",
            "\n",
            "Algorithmic control:\n",
            " filter tree heap memopt load sort verbose\n",
            "    0.1 TRUE TRUE  FALSE TRUE    2    TRUE\n",
            "\n",
            "Absolute minimum support count: 131 \n",
            "\n",
            "set item appearances ...[0 item(s)] done [0.00s].\n",
            "set transactions ...[39043 item(s), 131209 transaction(s)] done [1.30s].\n",
            "sorting and recoding items ... [1865 item(s)] done [0.04s].\n",
            "creating transaction tree ... done [0.12s].\n",
            "checking subsets of size 1 2 3 4 done [0.12s].\n",
            "writing ... [347 rule(s)] done [0.02s].\n",
            "creating S4 object  ... done [0.10s].\n",
            "[1] \"Tiempo total de procesamiento en R: 1.86932873725891 segundos\"\n",
            "    lhs                                                rhs                                                 support confidence    coverage     lift count\n",
            "[1] {strawberry rhubarb yoghurt}                    => {blueberry yoghurt}                             0.001196564  0.3096647 0.003864064 80.29801   157\n",
            "[2] {blueberry yoghurt}                             => {strawberry rhubarb yoghurt}                    0.001196564  0.3102767 0.003856443 80.29801   157\n",
            "[3] {nonfat icelandic style strawberry yogurt}      => {icelandic style skyr blueberry non~fat yogurt} 0.001166079  0.4226519 0.002758957 78.66062   153\n",
            "[4] {non fat acai ~ mixed berries yogurt}           => {icelandic style skyr blueberry non~fat yogurt} 0.001288021  0.4023810 0.003201000 74.88795   169\n",
            "[5] {icelandic style skyr blueberry non~fat yogurt} => {non fat raspberry yogurt}                      0.001676714  0.3120567 0.005373107 71.08447   220\n"
          ]
        },
        {
          "output_type": "display_data",
          "data": {
            "text/plain": [
              "In addition: Warning message:\n",
              "In asMethod(object) : removing duplicated items in transactions\n"
            ]
          },
          "metadata": {}
        },
        {
          "output_type": "display_data",
          "data": {
            "image/png": "[encoded data removed]",
            "text/plain": [
              "<IPython.core.display.Image object>"
            ]
          },
          "metadata": {}
        }
      ]
    },
    {
      "cell_type": "code",
      "source": [
        "import os #se utiliza aquí para verificar si un archivo (rulesdatabase_r.csv) existe en el sistema de archivos.\n",
        "\n",
        "\n",
        "# Verifica si el archivo generado por R está disponible\n",
        "if os.path.exists(\"rulesdatabase_r.csv\"):\n",
        "    # Cargar las reglas generadas por R/arules\n",
        "    rules_r_df = pd.read_csv(\"rulesdatabase_r.csv\")\n",
        "    rules_r_df.sort_values(by=\"lift\", ascending=False, inplace=True)\n",
        "    rules_r_df.reset_index(drop=True, inplace=True)\n",
        "    print(\"\\nReglas generadas por R (primeras 5):\")\n",
        "    print(rules_r_df.head())\n",
        "else:\n",
        "    print(\"El archivo 'rulesdatabase_r.csv' no se encontró. Asegúrate de haber generado las reglas en R.\")\n"
      ],
      "metadata": {
        "id": "MStqAkrEGNrx",
        "colab": {
          "base_uri": "https://localhost:8080/"
        },
        "outputId": "79b1127e-aa12-43d6-f854-6e425f03f6f6"
      },
      "execution_count": null,
      "outputs": [
        {
          "output_type": "stream",
          "name": "stdout",
          "text": [
            "\n",
            "Reglas generadas por R (primeras 5):\n",
            "                                               rules   support  confidence  \\\n",
            "0  {strawberry rhubarb yoghurt} => {blueberry yog...  0.001197    0.309665   \n",
            "1  {blueberry yoghurt} => {strawberry rhubarb yog...  0.001197    0.310277   \n",
            "2  {nonfat icelandic style strawberry yogurt} => ...  0.001166    0.422652   \n",
            "3  {non fat acai ~ mixed berries yogurt} => {icel...  0.001288    0.402381   \n",
            "4  {icelandic style skyr blueberry non~fat yogurt...  0.001677    0.312057   \n",
            "\n",
            "   coverage       lift  count  \\\n",
            "0  0.003864  80.298014    157   \n",
            "1  0.003856  80.298014    157   \n",
            "2  0.002759  78.660621    153   \n",
            "3  0.003201  74.887947    169   \n",
            "4  0.005373  71.084466    220   \n",
            "\n",
            "                                        antecedent  \\\n",
            "0                     {strawberry rhubarb yoghurt}   \n",
            "1                              {blueberry yoghurt}   \n",
            "2       {nonfat icelandic style strawberry yogurt}   \n",
            "3            {non fat acai ~ mixed berries yogurt}   \n",
            "4  {icelandic style skyr blueberry non~fat yogurt}   \n",
            "\n",
            "                                        consequent  \n",
            "0                              {blueberry yoghurt}  \n",
            "1                     {strawberry rhubarb yoghurt}  \n",
            "2  {icelandic style skyr blueberry non~fat yogurt}  \n",
            "3  {icelandic style skyr blueberry non~fat yogurt}  \n",
            "4                       {non fat raspberry yogurt}  \n"
          ]
        }
      ]
    },
    {
      "cell_type": "code",
      "source": [
        "# Cargar las reglas generadas desde R\n",
        "rules_r = pd.read_csv(\"rulesdatabase_r.csv\")"
      ],
      "metadata": {
        "id": "-MZJrIda3jxe"
      },
      "execution_count": null,
      "outputs": []
    },
    {
      "cell_type": "markdown",
      "source": [
        "Comparación de las reglas generadas"
      ],
      "metadata": {
        "id": "fguolAMQvcdR"
      }
    },
    {
      "cell_type": "code",
      "source": [
        "def comparar_reglas(rules_py, rules_ml, rules_r):\n",
        "    \"\"\"\n",
        "    Compara reglas generadas manualmente, con mlxtend, y en R.\n",
        "    \"\"\"\n",
        "    # Normalizar `rules_mlxtend`: convertir `antecedents` y `consequents` de conjuntos a listas ordenadas\n",
        "    rules_ml['antecedents'] = rules_ml['antecedents'].apply(lambda x: sorted(list(x)) if isinstance(x, set) else x)\n",
        "    rules_ml['consequents'] = rules_ml['consequents'].apply(lambda x: sorted(list(x)) if isinstance(x, set) else x)\n",
        "\n",
        "    # `rules_r` ya tiene las columnas correctas: `antecedent` y `consequent`\n",
        "    matches = []\n",
        "    differences = []\n",
        "\n",
        "    for _, rule_py in rules_py.iterrows():\n",
        "        # Buscar regla equivalente en `mlxtend`\n",
        "        matched_ml = rules_ml[\n",
        "            (rules_ml['antecedents'] == sorted(rule_py['antecedent'])) &\n",
        "            (rules_ml['consequents'] == sorted(rule_py['consequent']))\n",
        "        ]\n",
        "\n",
        "        # Buscar regla equivalente en `R`\n",
        "        matched_r = rules_r[\n",
        "            (rules_r['antecedent'] == sorted(rule_py['antecedent'])) &\n",
        "            (rules_r['consequent'] == sorted(rule_py['consequent']))\n",
        "        ]\n",
        "\n",
        "        if not matched_ml.empty and not matched_r.empty:\n",
        "            matched_ml_row = matched_ml.iloc[0]\n",
        "            matched_r_row = matched_r.iloc[0]\n",
        "            matches.append({\n",
        "                'antecedent': rule_py['antecedent'],\n",
        "                'consequent': rule_py['consequent'],\n",
        "                'support_manual': rule_py['support'],\n",
        "                'support_ml': matched_ml_row['support'],\n",
        "                'support_r': matched_r_row['support'],\n",
        "                'confidence_manual': rule_py['confidence'],\n",
        "                'confidence_ml': matched_ml_row['confidence'],\n",
        "                'confidence_r': matched_r_row['confidence'],\n",
        "                'lift_manual': rule_py['lift'],\n",
        "                'lift_ml': matched_ml_row['lift'],\n",
        "                'lift_r': matched_r_row['lift']\n",
        "            })\n",
        "        else:\n",
        "           # Si la regla no está en una o más implementaciones\n",
        "            differences.append({\n",
        "                'antecedent': rule_py['antecedent'],\n",
        "                'consequent': rule_py['consequent'],\n",
        "                'reason': 'No encontrada en mlxtend o R'\n",
        "            })\n",
        "\n",
        "    return pd.DataFrame(matches), pd.DataFrame(differences)\n",
        "\n"
      ],
      "metadata": {
        "id": "iLC188AklSUw"
      },
      "execution_count": null,
      "outputs": []
    },
    {
      "cell_type": "code",
      "source": [
        "# Recopilar datos\n",
        "\n",
        "\n",
        "resultados = [\n",
        "    {\n",
        "        \"Reglas generadas\": len(rules_manual),  # Número de reglas generadas manualmente\n",
        "        \"Soporte mínimo\": \"1%\",\n",
        "        \"Confianza promedio\": round(rules_manual[\"confidence\"].mean(), 2),  # Promedio de confianza en reglas manuales\n",
        "        \"Lift promedio\": round(rules_manual[\"lift\"].mean(), 2),  # Promedio de lift en reglas manuales\n",
        "        \"Tiempo (Python manual)\": round(manual_time, 2),  # Tiempo total calculado para la implementación manual\n",
        "        \"Tiempo (`mlxtend`)\": round(mlxtend_time, 2),    # Tiempo total calculado con mlxtend\n",
        "        \"Tiempo (R)\": round(float(r_execution_time[0]), 2),  # Tiempo calculado en R (convertido a segundos)\n",
        "\n",
        "\n",
        "\n",
        "    },\n",
        "]\n",
        "\n",
        "# Crear un DataFrame con los resultados\n",
        "df_resultados = pd.DataFrame(resultados)\n",
        "\n",
        "# Visualizar la tabla\n",
        "print(\"\\nTabla comparativa de tiempos y resultados:\")\n",
        "from IPython.display import display\n",
        "display(df_resultados)\n"
      ],
      "metadata": {
        "id": "29od00uN83EE",
        "colab": {
          "base_uri": "https://localhost:8080/",
          "height": 125
        },
        "outputId": "59f8d765-b217-4e20-dcf3-6803ddedc98a"
      },
      "execution_count": null,
      "outputs": [
        {
          "output_type": "stream",
          "name": "stdout",
          "text": [
            "\n",
            "Tabla comparativa de tiempos y resultados:\n"
          ]
        },
        {
          "output_type": "display_data",
          "data": {
            "text/plain": [
              "   Reglas generadas Soporte mínimo  Confianza promedio  Lift promedio  \\\n",
              "0                 3             1%                0.32           3.05   \n",
              "\n",
              "   Tiempo (Python manual)  Tiempo (`mlxtend`)  Tiempo (R)  \n",
              "0                  393.19               93.89        1.87  "
            ],
            "text/html": [
              "\n",
              "  <div id=\"df-a8e8cb0c-5827-4f0b-872d-0ea6ef0cb3bd\" class=\"colab-df-container\">\n",
              "    <div>\n",
              "<style scoped>\n",
              "    .dataframe tbody tr th:only-of-type {\n",
              "        vertical-align: middle;\n",
              "    }\n",
              "\n",
              "    .dataframe tbody tr th {\n",
              "        vertical-align: top;\n",
              "    }\n",
              "\n",
              "    .dataframe thead th {\n",
              "        text-align: right;\n",
              "    }\n",
              "</style>\n",
              "<table border=\"1\" class=\"dataframe\">\n",
              "  <thead>\n",
              "    <tr style=\"text-align: right;\">\n",
              "      <th></th>\n",
              "      <th>Reglas generadas</th>\n",
              "      <th>Soporte mínimo</th>\n",
              "      <th>Confianza promedio</th>\n",
              "      <th>Lift promedio</th>\n",
              "      <th>Tiempo (Python manual)</th>\n",
              "      <th>Tiempo (`mlxtend`)</th>\n",
              "      <th>Tiempo (R)</th>\n",
              "    </tr>\n",
              "  </thead>\n",
              "  <tbody>\n",
              "    <tr>\n",
              "      <th>0</th>\n",
              "      <td>3</td>\n",
              "      <td>1%</td>\n",
              "      <td>0.32</td>\n",
              "      <td>3.05</td>\n",
              "      <td>393.19</td>\n",
              "      <td>93.89</td>\n",
              "      <td>1.87</td>\n",
              "    </tr>\n",
              "  </tbody>\n",
              "</table>\n",
              "</div>\n",
              "    <div class=\"colab-df-buttons\">\n",
              "\n",
              "  <div class=\"colab-df-container\">\n",
              "    <button class=\"colab-df-convert\" onclick=\"convertToInteractive('df-a8e8cb0c-5827-4f0b-872d-0ea6ef0cb3bd')\"\n",
              "            title=\"Convert this dataframe to an interactive table.\"\n",
              "            style=\"display:none;\">\n",
              "\n",
              "  <svg xmlns=\"http://www.w3.org/2000/svg\" height=\"24px\" viewBox=\"0 -960 960 960\">\n",
              "    <path d=\"M120-120v-720h720v720H120Zm60-500h600v-160H180v160Zm220 220h160v-160H400v160Zm0 220h160v-160H400v160ZM180-400h160v-160H180v160Zm440 0h160v-160H620v160ZM180-180h160v-160H180v160Zm440 0h160v-160H620v160Z\"/>\n",
              "  </svg>\n",
              "    </button>\n",
              "\n",
              "  <style>\n",
              "    .colab-df-container {\n",
              "      display:flex;\n",
              "      gap: 12px;\n",
              "    }\n",
              "\n",
              "    .colab-df-convert {\n",
              "      background-color: #E8F0FE;\n",
              "      border: none;\n",
              "      border-radius: 50%;\n",
              "      cursor: pointer;\n",
              "      display: none;\n",
              "      fill: #1967D2;\n",
              "      height: 32px;\n",
              "      padding: 0 0 0 0;\n",
              "      width: 32px;\n",
              "    }\n",
              "\n",
              "    .colab-df-convert:hover {\n",
              "      background-color: #E2EBFA;\n",
              "      box-shadow: 0px 1px 2px rgba(60, 64, 67, 0.3), 0px 1px 3px 1px rgba(60, 64, 67, 0.15);\n",
              "      fill: #174EA6;\n",
              "    }\n",
              "\n",
              "    .colab-df-buttons div {\n",
              "      margin-bottom: 4px;\n",
              "    }\n",
              "\n",
              "    [theme=dark] .colab-df-convert {\n",
              "      background-color: #3B4455;\n",
              "      fill: #D2E3FC;\n",
              "    }\n",
              "\n",
              "    [theme=dark] .colab-df-convert:hover {\n",
              "      background-color: #434B5C;\n",
              "      box-shadow: 0px 1px 3px 1px rgba(0, 0, 0, 0.15);\n",
              "      filter: drop-shadow(0px 1px 2px rgba(0, 0, 0, 0.3));\n",
              "      fill: #FFFFFF;\n",
              "    }\n",
              "  </style>\n",
              "\n",
              "    <script>\n",
              "      const buttonEl =\n",
              "        document.querySelector('#df-a8e8cb0c-5827-4f0b-872d-0ea6ef0cb3bd button.colab-df-convert');\n",
              "      buttonEl.style.display =\n",
              "        google.colab.kernel.accessAllowed ? 'block' : 'none';\n",
              "\n",
              "      async function convertToInteractive(key) {\n",
              "        const element = document.querySelector('#df-a8e8cb0c-5827-4f0b-872d-0ea6ef0cb3bd');\n",
              "        const dataTable =\n",
              "          await google.colab.kernel.invokeFunction('convertToInteractive',\n",
              "                                                    [key], {});\n",
              "        if (!dataTable) return;\n",
              "\n",
              "        const docLinkHtml = 'Like what you see? Visit the ' +\n",
              "          '<a target=\"_blank\" href=https://colab.research.google.com/notebooks/data_table.ipynb>data table notebook</a>'\n",
              "          + ' to learn more about interactive tables.';\n",
              "        element.innerHTML = '';\n",
              "        dataTable['output_type'] = 'display_data';\n",
              "        await google.colab.output.renderOutput(dataTable, element);\n",
              "        const docLink = document.createElement('div');\n",
              "        docLink.innerHTML = docLinkHtml;\n",
              "        element.appendChild(docLink);\n",
              "      }\n",
              "    </script>\n",
              "  </div>\n",
              "\n",
              "\n",
              "  <div id=\"id_82d5d3e1-1362-4c99-bc87-3affad2fff6a\">\n",
              "    <style>\n",
              "      .colab-df-generate {\n",
              "        background-color: #E8F0FE;\n",
              "        border: none;\n",
              "        border-radius: 50%;\n",
              "        cursor: pointer;\n",
              "        display: none;\n",
              "        fill: #1967D2;\n",
              "        height: 32px;\n",
              "        padding: 0 0 0 0;\n",
              "        width: 32px;\n",
              "      }\n",
              "\n",
              "      .colab-df-generate:hover {\n",
              "        background-color: #E2EBFA;\n",
              "        box-shadow: 0px 1px 2px rgba(60, 64, 67, 0.3), 0px 1px 3px 1px rgba(60, 64, 67, 0.15);\n",
              "        fill: #174EA6;\n",
              "      }\n",
              "\n",
              "      [theme=dark] .colab-df-generate {\n",
              "        background-color: #3B4455;\n",
              "        fill: #D2E3FC;\n",
              "      }\n",
              "\n",
              "      [theme=dark] .colab-df-generate:hover {\n",
              "        background-color: #434B5C;\n",
              "        box-shadow: 0px 1px 3px 1px rgba(0, 0, 0, 0.15);\n",
              "        filter: drop-shadow(0px 1px 2px rgba(0, 0, 0, 0.3));\n",
              "        fill: #FFFFFF;\n",
              "      }\n",
              "    </style>\n",
              "    <button class=\"colab-df-generate\" onclick=\"generateWithVariable('df_resultados')\"\n",
              "            title=\"Generate code using this dataframe.\"\n",
              "            style=\"display:none;\">\n",
              "\n",
              "  <svg xmlns=\"http://www.w3.org/2000/svg\" height=\"24px\"viewBox=\"0 0 24 24\"\n",
              "       width=\"24px\">\n",
              "    <path d=\"M7,19H8.4L18.45,9,17,7.55,7,17.6ZM5,21V16.75L18.45,3.32a2,2,0,0,1,2.83,0l1.4,1.43a1.91,1.91,0,0,1,.58,1.4,1.91,1.91,0,0,1-.58,1.4L9.25,21ZM18.45,9,17,7.55Zm-12,3A5.31,5.31,0,0,0,4.9,8.1,5.31,5.31,0,0,0,1,6.5,5.31,5.31,0,0,0,4.9,4.9,5.31,5.31,0,0,0,6.5,1,5.31,5.31,0,0,0,8.1,4.9,5.31,5.31,0,0,0,12,6.5,5.46,5.46,0,0,0,6.5,12Z\"/>\n",
              "  </svg>\n",
              "    </button>\n",
              "    <script>\n",
              "      (() => {\n",
              "      const buttonEl =\n",
              "        document.querySelector('#id_82d5d3e1-1362-4c99-bc87-3affad2fff6a button.colab-df-generate');\n",
              "      buttonEl.style.display =\n",
              "        google.colab.kernel.accessAllowed ? 'block' : 'none';\n",
              "\n",
              "      buttonEl.onclick = () => {\n",
              "        google.colab.notebook.generateWithVariable('df_resultados');\n",
              "      }\n",
              "      })();\n",
              "    </script>\n",
              "  </div>\n",
              "\n",
              "    </div>\n",
              "  </div>\n"
            ],
            "application/vnd.google.colaboratory.intrinsic+json": {
              "type": "dataframe",
              "variable_name": "df_resultados",
              "summary": "{\n  \"name\": \"df_resultados\",\n  \"rows\": 1,\n  \"fields\": [\n    {\n      \"column\": \"Reglas generadas\",\n      \"properties\": {\n        \"dtype\": \"number\",\n        \"std\": null,\n        \"min\": 3,\n        \"max\": 3,\n        \"num_unique_values\": 1,\n        \"samples\": [\n          3\n        ],\n        \"semantic_type\": \"\",\n        \"description\": \"\"\n      }\n    },\n    {\n      \"column\": \"Soporte m\\u00ednimo\",\n      \"properties\": {\n        \"dtype\": \"string\",\n        \"num_unique_values\": 1,\n        \"samples\": [\n          \"1%\"\n        ],\n        \"semantic_type\": \"\",\n        \"description\": \"\"\n      }\n    },\n    {\n      \"column\": \"Confianza promedio\",\n      \"properties\": {\n        \"dtype\": \"number\",\n        \"std\": null,\n        \"min\": 0.32,\n        \"max\": 0.32,\n        \"num_unique_values\": 1,\n        \"samples\": [\n          0.32\n        ],\n        \"semantic_type\": \"\",\n        \"description\": \"\"\n      }\n    },\n    {\n      \"column\": \"Lift promedio\",\n      \"properties\": {\n        \"dtype\": \"number\",\n        \"std\": null,\n        \"min\": 3.05,\n        \"max\": 3.05,\n        \"num_unique_values\": 1,\n        \"samples\": [\n          3.05\n        ],\n        \"semantic_type\": \"\",\n        \"description\": \"\"\n      }\n    },\n    {\n      \"column\": \"Tiempo (Python manual)\",\n      \"properties\": {\n        \"dtype\": \"number\",\n        \"std\": null,\n        \"min\": 393.19,\n        \"max\": 393.19,\n        \"num_unique_values\": 1,\n        \"samples\": [\n          393.19\n        ],\n        \"semantic_type\": \"\",\n        \"description\": \"\"\n      }\n    },\n    {\n      \"column\": \"Tiempo (`mlxtend`)\",\n      \"properties\": {\n        \"dtype\": \"number\",\n        \"std\": null,\n        \"min\": 93.89,\n        \"max\": 93.89,\n        \"num_unique_values\": 1,\n        \"samples\": [\n          93.89\n        ],\n        \"semantic_type\": \"\",\n        \"description\": \"\"\n      }\n    },\n    {\n      \"column\": \"Tiempo (R)\",\n      \"properties\": {\n        \"dtype\": \"number\",\n        \"std\": null,\n        \"min\": 1.87,\n        \"max\": 1.87,\n        \"num_unique_values\": 1,\n        \"samples\": [\n          1.87\n        ],\n        \"semantic_type\": \"\",\n        \"description\": \"\"\n      }\n    }\n  ]\n}"
            }
          },
          "metadata": {}
        }
      ]
    },
    {
      "cell_type": "code",
      "source": [
        "# Datos para el gráfico\n",
        "soportes = df_resultados[\"Soporte mínimo\"]\n",
        "tiempos_python = df_resultados[\"Tiempo (Python manual)\"]\n",
        "tiempos_mlxtend = df_resultados[\"Tiempo (`mlxtend`)\"]\n",
        "tiempos_r = df_resultados[\"Tiempo (R)\"]\n",
        "confianza_prom = df_resultados[\"Confianza promedio\"]\n",
        "lift_prom = df_resultados[\"Lift promedio\"]\n",
        "reglas_generadas = df_resultados[\"Reglas generadas\"]\n",
        "\n",
        "# Gráfico 1: Comparación de tiempos\n",
        "plt.figure(figsize=(10, 6))\n",
        "plt.plot(soportes, tiempos_python, label=\"Python manual\", marker=\"o\")\n",
        "plt.plot(soportes, tiempos_mlxtend, label=\"`mlxtend`\", marker=\"o\")\n",
        "plt.plot(soportes, tiempos_r, label=\"R\", marker=\"o\")\n",
        "plt.title(\"Comparación de Tiempos de Ejecución\", fontsize=14)\n",
        "plt.xlabel(\"Soporte mínimo\", fontsize=12)\n",
        "plt.ylabel(\"Tiempo (segundos)\", fontsize=12)\n",
        "plt.legend(fontsize=12)\n",
        "plt.grid(True)\n",
        "plt.show()\n"
      ],
      "metadata": {
        "id": "EdUIq9Jo-aq4",
        "colab": {
          "base_uri": "https://localhost:8080/",
          "height": 571
        },
        "outputId": "ee8c3c89-e9f2-4d93-e8cc-7272b176a258"
      },
      "execution_count": null,
      "outputs": [
        {
          "output_type": "display_data",
          "data": {
            "text/plain": [
              "<Figure size 1000x600 with 1 Axes>"
            ],
            "image/png": "[encoded data removed]"
          },
          "metadata": {}
        }
      ]
    },
    {
      "cell_type": "markdown",
      "source": [
        "Generación de Recomendaciones Basadas en una Transacción Existente"
      ],
      "metadata": {
        "id": "fABLMLrrzOHj"
      }
    },
    {
      "cell_type": "code",
      "source": [
        "print(rules_df.columns)\n",
        "print(rules_df.head())\n"
      ],
      "metadata": {
        "colab": {
          "base_uri": "https://localhost:8080/"
        },
        "id": "pgj7u8I8_ptS",
        "outputId": "944484bd-aa9d-409e-e3cc-d433b4f8d69d"
      },
      "execution_count": null,
      "outputs": [
        {
          "output_type": "stream",
          "name": "stdout",
          "text": [
            "Index(['rules', 'support', 'confidence', 'coverage', 'lift', 'count',\n",
            "       'antecedent', 'consequent'],\n",
            "      dtype='object')\n",
            "                                                rules   support  confidence  \\\n",
            "15  {strawberry rhubarb yoghurt} => {blueberry yog...  0.001197    0.309665   \n",
            "14  {blueberry yoghurt} => {strawberry rhubarb yog...  0.001197    0.310277   \n",
            "4   {nonfat icelandic style strawberry yogurt} => ...  0.001166    0.422652   \n",
            "8   {non fat acai ~ mixed berries yogurt} => {icel...  0.001288    0.402381   \n",
            "22  {icelandic style skyr blueberry non~fat yogurt...  0.001677    0.312057   \n",
            "\n",
            "    coverage       lift  count  \\\n",
            "15  0.003864  80.298014    157   \n",
            "14  0.003856  80.298014    157   \n",
            "4   0.002759  78.660621    153   \n",
            "8   0.003201  74.887947    169   \n",
            "22  0.005373  71.084466    220   \n",
            "\n",
            "                                         antecedent  \\\n",
            "15                     {strawberry rhubarb yoghurt}   \n",
            "14                              {blueberry yoghurt}   \n",
            "4        {nonfat icelandic style strawberry yogurt}   \n",
            "8             {non fat acai ~ mixed berries yogurt}   \n",
            "22  {icelandic style skyr blueberry non~fat yogurt}   \n",
            "\n",
            "                                         consequent  \n",
            "15                              {blueberry yoghurt}  \n",
            "14                     {strawberry rhubarb yoghurt}  \n",
            "4   {icelandic style skyr blueberry non~fat yogurt}  \n",
            "8   {icelandic style skyr blueberry non~fat yogurt}  \n",
            "22                       {non fat raspberry yogurt}  \n"
          ]
        }
      ]
    },
    {
      "cell_type": "code",
      "source": [
        "# Función para convertir una cadena del antecedente a lista (si es necesario)\n",
        "def convertir_a_lista(cadena):\n",
        "    cadena = cadena.strip(\"{}\")\n",
        "    if not cadena:\n",
        "        return []\n",
        "    return [item.strip() for item in cadena.split(',')]\n",
        "\n",
        "# Función para evaluar coincidencia parcial\n",
        "def coincide_parcial(antecedente, transaccion, umbral=0.5):\n",
        "    # Retorna True si al menos \"umbral\" (por defecto 50%) de los ítems del antecedente están en la transacción\n",
        "    if not antecedente:\n",
        "        return False\n",
        "    interseccion = set(antecedente).intersection(set(transaccion))\n",
        "    return len(interseccion) / len(antecedente) >= umbral\n"
      ],
      "metadata": {
        "id": "hkn--aPMC0Me",
        "colab": {
          "base_uri": "https://localhost:8080/"
        },
        "outputId": "e7b22259-8d26-4b62-a64c-29a3d0410bc1"
      },
      "execution_count": null,
      "outputs": [
        {
          "output_type": "stream",
          "name": "stdout",
          "text": [
            "Usando la transacción existente en el índice 500: ['organic large extra fancy fuji apple', 'organic strawberries', 'organic sweet vanilla bean nutrition complete protein shake', 'classic peanut butter', 'seedless red grapes', 'smoked maple ham', 'chocolate mint builder~s bar', 'reduced fat midnight chocolate milk', 'vanilla skyr style yogurt', 'chocolate brownie flavor protein bar', 'organic strawberry smoothie', 'organic creamy chocolate fudge nutritional shake', 'organic cucumber', 'organic grape tomatoes', 'original bagel crisps roasted garlic', 'sweet onions', 'red vine tomato', 'lowfat small curd cottage cheese', 'european style salted butter']\n",
            "Productos recomendados basados en la transacción existente:\n",
            "                   producto      lift  confidence   support\n",
            "0    {organic hass avocado}  5.940453    0.330189  0.001067\n",
            "4             {large lemon}  5.428922    0.336595  0.001311\n",
            "5         {organic avocado}  5.340445    0.301560  0.001326\n",
            "6    {organic strawberries}  4.828762    0.400922  0.001326\n",
            "9  {bag of organic bananas}  4.635331    0.546875  0.001067\n"
          ]
        }
      ]
    },
    {
      "cell_type": "code",
      "source": [
        "# Seleccionar una transacción existente por indice\n",
        "indice_transaccion = 301  # Modifica este valor para probar con distintos índices\n",
        "transaccion_existente = transactions[indice_transaccion]\n",
        "print(f\"Usando la transacción existente en el índice {indice_transaccion}: {transaccion_existente}\")\n",
        "\n",
        "# Filtrar reglas (obtenidas desde R y almacenadas en 'rules_df') usando el criterio de coincidencia parcial\n",
        "productos_recomendados = []\n",
        "for _, regla in rules_df.iterrows():\n",
        "    # Convertir el antecedente (si viene como cadena) a una lista de ítems\n",
        "    antecedente = convertir_a_lista(regla['antecedent'])\n",
        "    # Se evalúa la coincidencia parcial: al menos el 50% de los ítems del antecedente deben estar en la transacción\n",
        "    if coincide_parcial(antecedente, transaccion_existente, umbral=0.5):\n",
        "        productos_recomendados.append({\n",
        "            'producto': regla['consequent'],\n",
        "            'lift': regla['lift'],\n",
        "            'confidence': regla['confidence'],\n",
        "            'support': regla['support']\n",
        "        })\n",
        "\n",
        "# Convertir la lista de recomendaciones a un DataFrame definiendo las columnas esperadas\n",
        "import pandas as pd\n",
        "columnas = ['producto', 'lift', 'confidence', 'support']\n",
        "recomendaciones_df = pd.DataFrame(productos_recomendados, columns=columnas)\n",
        "\n",
        "# Verificar si se encontraron recomendaciones\n",
        "if recomendaciones_df.empty:\n",
        "    print(\"No se encontraron recomendaciones para esta transacción.\")\n",
        "else:\n",
        "    # Eliminar duplicados y ordenar las recomendaciones por 'lift'\n",
        "    recomendaciones_df = recomendaciones_df.drop_duplicates(subset='producto').sort_values(by='lift', ascending=False)\n",
        "    print(\"Productos recomendados basados en la transacción existente:\")\n",
        "    print(recomendaciones_df.head())\n"
      ],
      "metadata": {
        "colab": {
          "base_uri": "https://localhost:8080/"
        },
        "id": "q8raZMaoByKS",
        "outputId": "b45d5e13-addb-4976-b2ac-84e9031db6a7"
      },
      "execution_count": null,
      "outputs": [
        {
          "output_type": "stream",
          "name": "stdout",
          "text": [
            "Usando la transacción existente en el índice 301: ['asparagus', 'unsweetened coconut milk beverage', 'boneless skinless chicken breast fillets', 'mozzarella ciliegine fresh', 'red vine tomato', 'simple favorites chicken enchilada suiza', 'fridge pack cola', 'chardonnay', 'total 2~ with strawberry lowfat greek strained yogurt', 'orange chicken', 'simple favorites five cheese rigatoni', 'brussels sprouts', 'red delicious apple']\n",
            "Productos recomendados basados en la transacción existente:\n",
            "                   producto      lift  confidence   support\n",
            "0             {large lemon}  6.575351    0.407674  0.001296\n",
            "1  {bag of organic bananas}  3.571662    0.421384  0.001021\n",
            "4                  {banana}  2.321608    0.331337  0.001265\n"
          ]
        }
      ]
    },
    {
      "cell_type": "code",
      "source": [
        "# Visualización interactiva con Plotly\n",
        "import plotly.express as px\n",
        "fig = px.scatter(\n",
        "    recomendaciones_df,\n",
        "    x='support',\n",
        "    y='confidence',\n",
        "    size='lift',\n",
        "    color='lift',\n",
        "    hover_data=['producto'],\n",
        "    title=f\"Productos Recomendados Basados en Transacción Existente (Índice {indice_transaccion})\"\n",
        ")\n",
        "fig.update_layout(\n",
        "    xaxis_title=\"Soporte\",\n",
        "    yaxis_title=\"Confianza\",\n",
        "    legend_title=\"Lift\",\n",
        "    template=\"plotly_dark\"\n",
        ")\n",
        "fig.show()\n",
        "\n",
        "# Grafo interactivo con la transacción existente\n",
        "import networkx as nx\n",
        "import plotly.graph_objects as go\n",
        "\n",
        "# Crear grafo para la transacción existente\n",
        "G = nx.Graph()\n",
        "\n",
        "# Añadir nodos para la transacción inicial\n",
        "for producto in transaccion_existente:\n",
        "    G.add_node(producto, type='comprado', color='blue', size=30)\n",
        "\n",
        "# Añadir nodos para las recomendaciones\n",
        "for _, row in recomendaciones_df.iterrows():\n",
        "    G.add_node(row['producto'], type='recomendado', color='orange', size=row['lift']*10)\n",
        "    for producto in transaccion_existente:\n",
        "        G.add_edge(producto, row['producto'], weight=row['lift'])\n",
        "\n",
        "# Extraer posiciones para los nodos\n",
        "pos = nx.spring_layout(G)\n",
        "\n",
        "# Nodos del grafo\n",
        "node_x = []\n",
        "node_y = []\n",
        "node_size = []\n",
        "node_color = []\n",
        "node_text = []\n",
        "for node in G.nodes(data=True):\n",
        "    node_x.append(pos[node[0]][0])\n",
        "    node_y.append(pos[node[0]][1])\n",
        "    node_size.append(node[1]['size'])\n",
        "    node_color.append(node[1]['color'])\n",
        "    node_text.append(node[0])\n",
        "\n",
        "node_trace = go.Scatter(\n",
        "    x=node_x,\n",
        "    y=node_y,\n",
        "    mode='markers',\n",
        "    marker=dict(size=node_size, color=node_color, line=dict(width=1)),\n",
        "    text=node_text,\n",
        "    hoverinfo='text'\n",
        ")\n",
        "\n",
        "# Conexiones del grafo\n",
        "edge_x = []\n",
        "edge_y = []\n",
        "for edge in G.edges(data=True):\n",
        "    edge_x.extend([pos[edge[0]][0], pos[edge[1]][0], None])\n",
        "    edge_y.extend([pos[edge[0]][1], pos[edge[1]][1], None])\n",
        "\n",
        "edge_trace = go.Scatter(\n",
        "    x=edge_x,\n",
        "    y=edge_y,\n",
        "    line=dict(width=0.5, color='gray'),\n",
        "    hoverinfo='none',\n",
        "    mode='lines'\n",
        ")\n",
        "\n",
        "# Visualización interactiva del grafo\n",
        "fig = go.Figure(data=[edge_trace, node_trace],\n",
        "                layout=go.Layout(\n",
        "                    title=f\"Red Interactiva de Productos Comprados y Recomendados (Transacción Existente, Índice {indice_transaccion})\",\n",
        "                    showlegend=False,\n",
        "                    xaxis=dict(showgrid=False, zeroline=False),\n",
        "                    yaxis=dict(showgrid=False, zeroline=False)\n",
        "                ))\n",
        "fig.show()\n"
      ],
      "metadata": {
        "colab": {
          "base_uri": "https://localhost:8080/",
          "height": 1000
        },
        "id": "VQiAudfO2gqE",
        "outputId": "9716adc7-402e-4f9c-a2ca-40e289f63fa3"
      },
      "execution_count": null,
      "outputs": [
        {
          "output_type": "display_data",
          "data": {
            "text/html": [
              "<html>\n",
              "<head><meta charset=\"utf-8\" /></head>\n",
              "<body>\n",
              "    <div>            <script src=\"https://cdnjs.cloudflare.com/ajax/libs/mathjax/2.7.5/MathJax.js?config=TeX-AMS-MML_SVG\"></script><script type=\"text/javascript\">if (window.MathJax && window.MathJax.Hub && window.MathJax.Hub.Config) {window.MathJax.Hub.Config({SVG: {font: \"STIX-Web\"}});}</script>                <script type=\"text/javascript\">window.PlotlyConfig = {MathJaxConfig: 'local'};</script>\n",
              "        <script charset=\"utf-8\" src=\"https://cdn.plot.ly/plotly-2.35.2.min.js\"></script>                <div id=\"01e6fc7f-1301-432b-8fcf-38999f48eb9b\" class=\"plotly-graph-div\" style=\"height:525px; width:100%;\"></div>            <script type=\"text/javascript\">                                    window.PLOTLYENV=window.PLOTLYENV || {};                                    if (document.getElementById(\"01e6fc7f-1301-432b-8fcf-38999f48eb9b\")) {                    Plotly.newPlot(                        \"01e6fc7f-1301-432b-8fcf-38999f48eb9b\",                        [{\"customdata\":[[\"{large lemon}\"],[\"{bag of organic bananas}\"],[\"{banana}\"]],\"hovertemplate\":\"support=%{x}\\u003cbr\\u003econfidence=%{y}\\u003cbr\\u003elift=%{marker.color}\\u003cbr\\u003eproducto=%{customdata[0]}\\u003cextra\\u003e\\u003c\\u002fextra\\u003e\",\"legendgroup\":\"\",\"marker\":{\"color\":[6.575350905507923,3.571661953748395,2.3216084119276132],\"coloraxis\":\"coloraxis\",\"size\":[6.575350905507923,3.571661953748395,2.3216084119276132],\"sizemode\":\"area\",\"sizeref\":0.01643837726376981,\"symbol\":\"circle\"},\"mode\":\"markers\",\"name\":\"\",\"orientation\":\"v\",\"showlegend\":false,\"x\":[0.0012956428293790822,0.0010212714066870413,0.0012651571157466332],\"xaxis\":\"x\",\"y\":[0.407673860911271,0.42138364779874216,0.3313373253493014],\"yaxis\":\"y\",\"type\":\"scatter\"}],                        {\"template\":{\"data\":{\"barpolar\":[{\"marker\":{\"line\":{\"color\":\"rgb(17,17,17)\",\"width\":0.5},\"pattern\":{\"fillmode\":\"overlay\",\"size\":10,\"solidity\":0.2}},\"type\":\"barpolar\"}],\"bar\":[{\"error_x\":{\"color\":\"#f2f5fa\"},\"error_y\":{\"color\":\"#f2f5fa\"},\"marker\":{\"line\":{\"color\":\"rgb(17,17,17)\",\"width\":0.5},\"pattern\":{\"fillmode\":\"overlay\",\"size\":10,\"solidity\":0.2}},\"type\":\"bar\"}],\"carpet\":[{\"aaxis\":{\"endlinecolor\":\"#A2B1C6\",\"gridcolor\":\"#506784\",\"linecolor\":\"#506784\",\"minorgridcolor\":\"#506784\",\"startlinecolor\":\"#A2B1C6\"},\"baxis\":{\"endlinecolor\":\"#A2B1C6\",\"gridcolor\":\"#506784\",\"linecolor\":\"#506784\",\"minorgridcolor\":\"#506784\",\"startlinecolor\":\"#A2B1C6\"},\"type\":\"carpet\"}],\"choropleth\":[{\"colorbar\":{\"outlinewidth\":0,\"ticks\":\"\"},\"type\":\"choropleth\"}],\"contourcarpet\":[{\"colorbar\":{\"outlinewidth\":0,\"ticks\":\"\"},\"type\":\"contourcarpet\"}],\"contour\":[{\"colorbar\":{\"outlinewidth\":0,\"ticks\":\"\"},\"colorscale\":[[0.0,\"#0d0887\"],[0.1111111111111111,\"#46039f\"],[0.2222222222222222,\"#7201a8\"],[0.3333333333333333,\"#9c179e\"],[0.4444444444444444,\"#bd3786\"],[0.5555555555555556,\"#d8576b\"],[0.6666666666666666,\"#ed7953\"],[0.7777777777777778,\"#fb9f3a\"],[0.8888888888888888,\"#fdca26\"],[1.0,\"#f0f921\"]],\"type\":\"contour\"}],\"heatmapgl\":[{\"colorbar\":{\"outlinewidth\":0,\"ticks\":\"\"},\"colorscale\":[[0.0,\"#0d0887\"],[0.1111111111111111,\"#46039f\"],[0.2222222222222222,\"#7201a8\"],[0.3333333333333333,\"#9c179e\"],[0.4444444444444444,\"#bd3786\"],[0.5555555555555556,\"#d8576b\"],[0.6666666666666666,\"#ed7953\"],[0.7777777777777778,\"#fb9f3a\"],[0.8888888888888888,\"#fdca26\"],[1.0,\"#f0f921\"]],\"type\":\"heatmapgl\"}],\"heatmap\":[{\"colorbar\":{\"outlinewidth\":0,\"ticks\":\"\"},\"colorscale\":[[0.0,\"#0d0887\"],[0.1111111111111111,\"#46039f\"],[0.2222222222222222,\"#7201a8\"],[0.3333333333333333,\"#9c179e\"],[0.4444444444444444,\"#bd3786\"],[0.5555555555555556,\"#d8576b\"],[0.6666666666666666,\"#ed7953\"],[0.7777777777777778,\"#fb9f3a\"],[0.8888888888888888,\"#fdca26\"],[1.0,\"#f0f921\"]],\"type\":\"heatmap\"}],\"histogram2dcontour\":[{\"colorbar\":{\"outlinewidth\":0,\"ticks\":\"\"},\"colorscale\":[[0.0,\"#0d0887\"],[0.1111111111111111,\"#46039f\"],[0.2222222222222222,\"#7201a8\"],[0.3333333333333333,\"#9c179e\"],[0.4444444444444444,\"#bd3786\"],[0.5555555555555556,\"#d8576b\"],[0.6666666666666666,\"#ed7953\"],[0.7777777777777778,\"#fb9f3a\"],[0.8888888888888888,\"#fdca26\"],[1.0,\"#f0f921\"]],\"type\":\"histogram2dcontour\"}],\"histogram2d\":[{\"colorbar\":{\"outlinewidth\":0,\"ticks\":\"\"},\"colorscale\":[[0.0,\"#0d0887\"],[0.1111111111111111,\"#46039f\"],[0.2222222222222222,\"#7201a8\"],[0.3333333333333333,\"#9c179e\"],[0.4444444444444444,\"#bd3786\"],[0.5555555555555556,\"#d8576b\"],[0.6666666666666666,\"#ed7953\"],[0.7777777777777778,\"#fb9f3a\"],[0.8888888888888888,\"#fdca26\"],[1.0,\"#f0f921\"]],\"type\":\"histogram2d\"}],\"histogram\":[{\"marker\":{\"pattern\":{\"fillmode\":\"overlay\",\"size\":10,\"solidity\":0.2}},\"type\":\"histogram\"}],\"mesh3d\":[{\"colorbar\":{\"outlinewidth\":0,\"ticks\":\"\"},\"type\":\"mesh3d\"}],\"parcoords\":[{\"line\":{\"colorbar\":{\"outlinewidth\":0,\"ticks\":\"\"}},\"type\":\"parcoords\"}],\"pie\":[{\"automargin\":true,\"type\":\"pie\"}],\"scatter3d\":[{\"line\":{\"colorbar\":{\"outlinewidth\":0,\"ticks\":\"\"}},\"marker\":{\"colorbar\":{\"outlinewidth\":0,\"ticks\":\"\"}},\"type\":\"scatter3d\"}],\"scattercarpet\":[{\"marker\":{\"colorbar\":{\"outlinewidth\":0,\"ticks\":\"\"}},\"type\":\"scattercarpet\"}],\"scattergeo\":[{\"marker\":{\"colorbar\":{\"outlinewidth\":0,\"ticks\":\"\"}},\"type\":\"scattergeo\"}],\"scattergl\":[{\"marker\":{\"line\":{\"color\":\"#283442\"}},\"type\":\"scattergl\"}],\"scattermapbox\":[{\"marker\":{\"colorbar\":{\"outlinewidth\":0,\"ticks\":\"\"}},\"type\":\"scattermapbox\"}],\"scatterpolargl\":[{\"marker\":{\"colorbar\":{\"outlinewidth\":0,\"ticks\":\"\"}},\"type\":\"scatterpolargl\"}],\"scatterpolar\":[{\"marker\":{\"colorbar\":{\"outlinewidth\":0,\"ticks\":\"\"}},\"type\":\"scatterpolar\"}],\"scatter\":[{\"marker\":{\"line\":{\"color\":\"#283442\"}},\"type\":\"scatter\"}],\"scatterternary\":[{\"marker\":{\"colorbar\":{\"outlinewidth\":0,\"ticks\":\"\"}},\"type\":\"scatterternary\"}],\"surface\":[{\"colorbar\":{\"outlinewidth\":0,\"ticks\":\"\"},\"colorscale\":[[0.0,\"#0d0887\"],[0.1111111111111111,\"#46039f\"],[0.2222222222222222,\"#7201a8\"],[0.3333333333333333,\"#9c179e\"],[0.4444444444444444,\"#bd3786\"],[0.5555555555555556,\"#d8576b\"],[0.6666666666666666,\"#ed7953\"],[0.7777777777777778,\"#fb9f3a\"],[0.8888888888888888,\"#fdca26\"],[1.0,\"#f0f921\"]],\"type\":\"surface\"}],\"table\":[{\"cells\":{\"fill\":{\"color\":\"#506784\"},\"line\":{\"color\":\"rgb(17,17,17)\"}},\"header\":{\"fill\":{\"color\":\"#2a3f5f\"},\"line\":{\"color\":\"rgb(17,17,17)\"}},\"type\":\"table\"}]},\"layout\":{\"annotationdefaults\":{\"arrowcolor\":\"#f2f5fa\",\"arrowhead\":0,\"arrowwidth\":1},\"autotypenumbers\":\"strict\",\"coloraxis\":{\"colorbar\":{\"outlinewidth\":0,\"ticks\":\"\"}},\"colorscale\":{\"diverging\":[[0,\"#8e0152\"],[0.1,\"#c51b7d\"],[0.2,\"#de77ae\"],[0.3,\"#f1b6da\"],[0.4,\"#fde0ef\"],[0.5,\"#f7f7f7\"],[0.6,\"#e6f5d0\"],[0.7,\"#b8e186\"],[0.8,\"#7fbc41\"],[0.9,\"#4d9221\"],[1,\"#276419\"]],\"sequential\":[[0.0,\"#0d0887\"],[0.1111111111111111,\"#46039f\"],[0.2222222222222222,\"#7201a8\"],[0.3333333333333333,\"#9c179e\"],[0.4444444444444444,\"#bd3786\"],[0.5555555555555556,\"#d8576b\"],[0.6666666666666666,\"#ed7953\"],[0.7777777777777778,\"#fb9f3a\"],[0.8888888888888888,\"#fdca26\"],[1.0,\"#f0f921\"]],\"sequentialminus\":[[0.0,\"#0d0887\"],[0.1111111111111111,\"#46039f\"],[0.2222222222222222,\"#7201a8\"],[0.3333333333333333,\"#9c179e\"],[0.4444444444444444,\"#bd3786\"],[0.5555555555555556,\"#d8576b\"],[0.6666666666666666,\"#ed7953\"],[0.7777777777777778,\"#fb9f3a\"],[0.8888888888888888,\"#fdca26\"],[1.0,\"#f0f921\"]]},\"colorway\":[\"#636efa\",\"#EF553B\",\"#00cc96\",\"#ab63fa\",\"#FFA15A\",\"#19d3f3\",\"#FF6692\",\"#B6E880\",\"#FF97FF\",\"#FECB52\"],\"font\":{\"color\":\"#f2f5fa\"},\"geo\":{\"bgcolor\":\"rgb(17,17,17)\",\"lakecolor\":\"rgb(17,17,17)\",\"landcolor\":\"rgb(17,17,17)\",\"showlakes\":true,\"showland\":true,\"subunitcolor\":\"#506784\"},\"hoverlabel\":{\"align\":\"left\"},\"hovermode\":\"closest\",\"mapbox\":{\"style\":\"dark\"},\"paper_bgcolor\":\"rgb(17,17,17)\",\"plot_bgcolor\":\"rgb(17,17,17)\",\"polar\":{\"angularaxis\":{\"gridcolor\":\"#506784\",\"linecolor\":\"#506784\",\"ticks\":\"\"},\"bgcolor\":\"rgb(17,17,17)\",\"radialaxis\":{\"gridcolor\":\"#506784\",\"linecolor\":\"#506784\",\"ticks\":\"\"}},\"scene\":{\"xaxis\":{\"backgroundcolor\":\"rgb(17,17,17)\",\"gridcolor\":\"#506784\",\"gridwidth\":2,\"linecolor\":\"#506784\",\"showbackground\":true,\"ticks\":\"\",\"zerolinecolor\":\"#C8D4E3\"},\"yaxis\":{\"backgroundcolor\":\"rgb(17,17,17)\",\"gridcolor\":\"#506784\",\"gridwidth\":2,\"linecolor\":\"#506784\",\"showbackground\":true,\"ticks\":\"\",\"zerolinecolor\":\"#C8D4E3\"},\"zaxis\":{\"backgroundcolor\":\"rgb(17,17,17)\",\"gridcolor\":\"#506784\",\"gridwidth\":2,\"linecolor\":\"#506784\",\"showbackground\":true,\"ticks\":\"\",\"zerolinecolor\":\"#C8D4E3\"}},\"shapedefaults\":{\"line\":{\"color\":\"#f2f5fa\"}},\"sliderdefaults\":{\"bgcolor\":\"#C8D4E3\",\"bordercolor\":\"rgb(17,17,17)\",\"borderwidth\":1,\"tickwidth\":0},\"ternary\":{\"aaxis\":{\"gridcolor\":\"#506784\",\"linecolor\":\"#506784\",\"ticks\":\"\"},\"baxis\":{\"gridcolor\":\"#506784\",\"linecolor\":\"#506784\",\"ticks\":\"\"},\"bgcolor\":\"rgb(17,17,17)\",\"caxis\":{\"gridcolor\":\"#506784\",\"linecolor\":\"#506784\",\"ticks\":\"\"}},\"title\":{\"x\":0.05},\"updatemenudefaults\":{\"bgcolor\":\"#506784\",\"borderwidth\":0},\"xaxis\":{\"automargin\":true,\"gridcolor\":\"#283442\",\"linecolor\":\"#506784\",\"ticks\":\"\",\"title\":{\"standoff\":15},\"zerolinecolor\":\"#283442\",\"zerolinewidth\":2},\"yaxis\":{\"automargin\":true,\"gridcolor\":\"#283442\",\"linecolor\":\"#506784\",\"ticks\":\"\",\"title\":{\"standoff\":15},\"zerolinecolor\":\"#283442\",\"zerolinewidth\":2}}},\"xaxis\":{\"anchor\":\"y\",\"domain\":[0.0,1.0],\"title\":{\"text\":\"Soporte\"}},\"yaxis\":{\"anchor\":\"x\",\"domain\":[0.0,1.0],\"title\":{\"text\":\"Confianza\"}},\"coloraxis\":{\"colorbar\":{\"title\":{\"text\":\"lift\"}},\"colorscale\":[[0.0,\"#0d0887\"],[0.1111111111111111,\"#46039f\"],[0.2222222222222222,\"#7201a8\"],[0.3333333333333333,\"#9c179e\"],[0.4444444444444444,\"#bd3786\"],[0.5555555555555556,\"#d8576b\"],[0.6666666666666666,\"#ed7953\"],[0.7777777777777778,\"#fb9f3a\"],[0.8888888888888888,\"#fdca26\"],[1.0,\"#f0f921\"]]},\"legend\":{\"tracegroupgap\":0,\"itemsizing\":\"constant\",\"title\":{\"text\":\"Lift\"}},\"title\":{\"text\":\"Productos Recomendados Basados en Transacción Existente (Índice 301)\"}},                        {\"responsive\": true}                    ).then(function(){\n",
              "                            \n",
              "var gd = document.getElementById('01e6fc7f-1301-432b-8fcf-38999f48eb9b');\n",
              "var x = new MutationObserver(function (mutations, observer) {{\n",
              "        var display = window.getComputedStyle(gd).display;\n",
              "        if (!display || display === 'none') {{\n",
              "            console.log([gd, 'removed!']);\n",
              "            Plotly.purge(gd);\n",
              "            observer.disconnect();\n",
              "        }}\n",
              "}});\n",
              "\n",
              "// Listen for the removal of the full notebook cells\n",
              "var notebookContainer = gd.closest('#notebook-container');\n",
              "if (notebookContainer) {{\n",
              "    x.observe(notebookContainer, {childList: true});\n",
              "}}\n",
              "\n",
              "// Listen for the clearing of the current output cell\n",
              "var outputEl = gd.closest('.output');\n",
              "if (outputEl) {{\n",
              "    x.observe(outputEl, {childList: true});\n",
              "}}\n",
              "\n",
              "                        })                };                            </script>        </div>\n",
              "</body>\n",
              "</html>"
            ]
          },
          "metadata": {}
        },
        {
          "output_type": "display_data",
          "data": {
            "text/html": [
              "<html>\n",
              "<head><meta charset=\"utf-8\" /></head>\n",
              "<body>\n",
              "    <div>            <script src=\"https://cdnjs.cloudflare.com/ajax/libs/mathjax/2.7.5/MathJax.js?config=TeX-AMS-MML_SVG\"></script><script type=\"text/javascript\">if (window.MathJax && window.MathJax.Hub && window.MathJax.Hub.Config) {window.MathJax.Hub.Config({SVG: {font: \"STIX-Web\"}});}</script>                <script type=\"text/javascript\">window.PlotlyConfig = {MathJaxConfig: 'local'};</script>\n",
              "        <script charset=\"utf-8\" src=\"https://cdn.plot.ly/plotly-2.35.2.min.js\"></script>                <div id=\"6427f31a-c422-4b7d-abe2-d4c8070a4e72\" class=\"plotly-graph-div\" style=\"height:525px; width:100%;\"></div>            <script type=\"text/javascript\">                                    window.PLOTLYENV=window.PLOTLYENV || {};                                    if (document.getElementById(\"6427f31a-c422-4b7d-abe2-d4c8070a4e72\")) {                    Plotly.newPlot(                        \"6427f31a-c422-4b7d-abe2-d4c8070a4e72\",                        [{\"hoverinfo\":\"none\",\"line\":{\"color\":\"gray\",\"width\":0.5},\"mode\":\"lines\",\"x\":[-0.9285639234588846,0.04025412087703112,null,-0.9285639234588846,0.06367657077319493,null,-0.9285639234588846,-0.21842371672118144,null,0.633605769325231,0.04025412087703112,null,0.633605769325231,0.06367657077319493,null,0.633605769325231,-0.21842371672118144,null,-0.9873367753000671,0.04025412087703112,null,-0.9873367753000671,0.06367657077319493,null,-0.9873367753000671,-0.21842371672118144,null,-0.7168487865099997,0.04025412087703112,null,-0.7168487865099997,0.06367657077319493,null,-0.7168487865099997,-0.21842371672118144,null,0.5617392546316909,0.04025412087703112,null,0.5617392546316909,0.06367657077319493,null,0.5617392546316909,-0.21842371672118144,null,0.1805279589000057,0.04025412087703112,null,0.1805279589000057,0.06367657077319493,null,0.1805279589000057,-0.21842371672118144,null,0.8062313730807771,0.04025412087703112,null,0.8062313730807771,0.06367657077319493,null,0.8062313730807771,-0.21842371672118144,null,0.08973622834630261,0.04025412087703112,null,0.08973622834630261,0.06367657077319493,null,0.08973622834630261,-0.21842371672118144,null,-0.302414158845772,0.04025412087703112,null,-0.302414158845772,0.06367657077319493,null,-0.302414158845772,-0.21842371672118144,null,1.0,0.04025412087703112,null,1.0,0.06367657077319493,null,1.0,-0.21842371672118144,null,-0.7420116043884321,0.04025412087703112,null,-0.7420116043884321,0.06367657077319493,null,-0.7420116043884321,-0.21842371672118144,null,-0.37225944644655506,0.04025412087703112,null,-0.37225944644655506,0.06367657077319493,null,-0.37225944644655506,-0.21842371672118144,null,0.8920871357366564,0.04025412087703112,null,0.8920871357366564,0.06367657077319493,null,0.8920871357366564,-0.21842371672118144,null],\"y\":[-0.27102933029728365,0.07215582846025159,null,-0.27102933029728365,-0.1301430521706923,null,-0.27102933029728365,-0.018819230272093843,null,-0.7728532080031939,0.07215582846025159,null,-0.7728532080031939,-0.1301430521706923,null,-0.7728532080031939,-0.018819230272093843,null,0.21496641704927744,0.07215582846025159,null,0.21496641704927744,-0.1301430521706923,null,0.21496641704927744,-0.018819230272093843,null,-0.7034628547642698,0.07215582846025159,null,-0.7034628547642698,-0.1301430521706923,null,-0.7034628547642698,-0.018819230272093843,null,0.8770128433317631,0.07215582846025159,null,0.8770128433317631,-0.1301430521706923,null,0.8770128433317631,-0.018819230272093843,null,-0.9494545805827765,0.07215582846025159,null,-0.9494545805827765,-0.1301430521706923,null,-0.9494545805827765,-0.018819230272093843,null,0.47339699480583186,0.07215582846025159,null,0.47339699480583186,-0.1301430521706923,null,0.47339699480583186,-0.018819230272093843,null,0.9291721295101824,0.07215582846025159,null,0.9291721295101824,-0.1301430521706923,null,0.9291721295101824,-0.018819230272093843,null,-0.9712285952206064,0.07215582846025159,null,-0.9712285952206064,-0.1301430521706923,null,-0.9712285952206064,-0.018819230272093843,null,0.058396964404276434,0.07215582846025159,null,0.058396964404276434,-0.1301430521706923,null,0.058396964404276434,-0.018819230272093843,null,0.6393271948894542,0.07215582846025159,null,0.6393271948894542,-0.1301430521706923,null,0.6393271948894542,-0.018819230272093843,null,0.9462582060527498,0.07215582846025159,null,0.9462582060527498,-0.1301430521706923,null,0.9462582060527498,-0.018819230272093843,null,-0.39369572719287177,0.07215582846025159,null,-0.39369572719287177,-0.1301430521706923,null,-0.39369572719287177,-0.018819230272093843,null],\"type\":\"scatter\"},{\"hoverinfo\":\"text\",\"marker\":{\"color\":[\"blue\",\"blue\",\"blue\",\"blue\",\"blue\",\"blue\",\"blue\",\"blue\",\"blue\",\"blue\",\"blue\",\"blue\",\"blue\",\"orange\",\"orange\",\"orange\"],\"line\":{\"width\":1},\"size\":[30,30,30,30,30,30,30,30,30,30,30,30,30,65.75350905507923,35.71661953748395,23.216084119276132]},\"mode\":\"markers\",\"text\":[\"asparagus\",\"unsweetened coconut milk beverage\",\"boneless skinless chicken breast fillets\",\"mozzarella ciliegine fresh\",\"red vine tomato\",\"simple favorites chicken enchilada suiza\",\"fridge pack cola\",\"chardonnay\",\"total 2~ with strawberry lowfat greek strained yogurt\",\"orange chicken\",\"simple favorites five cheese rigatoni\",\"brussels sprouts\",\"red delicious apple\",\"{large lemon}\",\"{bag of organic bananas}\",\"{banana}\"],\"x\":[-0.9285639234588846,0.633605769325231,-0.9873367753000671,-0.7168487865099997,0.5617392546316909,0.1805279589000057,0.8062313730807771,0.08973622834630261,-0.302414158845772,1.0,-0.7420116043884321,-0.37225944644655506,0.8920871357366564,0.04025412087703112,0.06367657077319493,-0.21842371672118144],\"y\":[-0.27102933029728365,-0.7728532080031939,0.21496641704927744,-0.7034628547642698,0.8770128433317631,-0.9494545805827765,0.47339699480583186,0.9291721295101824,-0.9712285952206064,0.058396964404276434,0.6393271948894542,0.9462582060527498,-0.39369572719287177,0.07215582846025159,-0.1301430521706923,-0.018819230272093843],\"type\":\"scatter\"}],                        {\"showlegend\":false,\"title\":{\"text\":\"Red Interactiva de Productos Comprados y Recomendados (Transacción Existente, Índice 301)\"},\"xaxis\":{\"showgrid\":false,\"zeroline\":false},\"yaxis\":{\"showgrid\":false,\"zeroline\":false},\"template\":{\"data\":{\"histogram2dcontour\":[{\"type\":\"histogram2dcontour\",\"colorbar\":{\"outlinewidth\":0,\"ticks\":\"\"},\"colorscale\":[[0.0,\"#0d0887\"],[0.1111111111111111,\"#46039f\"],[0.2222222222222222,\"#7201a8\"],[0.3333333333333333,\"#9c179e\"],[0.4444444444444444,\"#bd3786\"],[0.5555555555555556,\"#d8576b\"],[0.6666666666666666,\"#ed7953\"],[0.7777777777777778,\"#fb9f3a\"],[0.8888888888888888,\"#fdca26\"],[1.0,\"#f0f921\"]]}],\"choropleth\":[{\"type\":\"choropleth\",\"colorbar\":{\"outlinewidth\":0,\"ticks\":\"\"}}],\"histogram2d\":[{\"type\":\"histogram2d\",\"colorbar\":{\"outlinewidth\":0,\"ticks\":\"\"},\"colorscale\":[[0.0,\"#0d0887\"],[0.1111111111111111,\"#46039f\"],[0.2222222222222222,\"#7201a8\"],[0.3333333333333333,\"#9c179e\"],[0.4444444444444444,\"#bd3786\"],[0.5555555555555556,\"#d8576b\"],[0.6666666666666666,\"#ed7953\"],[0.7777777777777778,\"#fb9f3a\"],[0.8888888888888888,\"#fdca26\"],[1.0,\"#f0f921\"]]}],\"heatmap\":[{\"type\":\"heatmap\",\"colorbar\":{\"outlinewidth\":0,\"ticks\":\"\"},\"colorscale\":[[0.0,\"#0d0887\"],[0.1111111111111111,\"#46039f\"],[0.2222222222222222,\"#7201a8\"],[0.3333333333333333,\"#9c179e\"],[0.4444444444444444,\"#bd3786\"],[0.5555555555555556,\"#d8576b\"],[0.6666666666666666,\"#ed7953\"],[0.7777777777777778,\"#fb9f3a\"],[0.8888888888888888,\"#fdca26\"],[1.0,\"#f0f921\"]]}],\"heatmapgl\":[{\"type\":\"heatmapgl\",\"colorbar\":{\"outlinewidth\":0,\"ticks\":\"\"},\"colorscale\":[[0.0,\"#0d0887\"],[0.1111111111111111,\"#46039f\"],[0.2222222222222222,\"#7201a8\"],[0.3333333333333333,\"#9c179e\"],[0.4444444444444444,\"#bd3786\"],[0.5555555555555556,\"#d8576b\"],[0.6666666666666666,\"#ed7953\"],[0.7777777777777778,\"#fb9f3a\"],[0.8888888888888888,\"#fdca26\"],[1.0,\"#f0f921\"]]}],\"contourcarpet\":[{\"type\":\"contourcarpet\",\"colorbar\":{\"outlinewidth\":0,\"ticks\":\"\"}}],\"contour\":[{\"type\":\"contour\",\"colorbar\":{\"outlinewidth\":0,\"ticks\":\"\"},\"colorscale\":[[0.0,\"#0d0887\"],[0.1111111111111111,\"#46039f\"],[0.2222222222222222,\"#7201a8\"],[0.3333333333333333,\"#9c179e\"],[0.4444444444444444,\"#bd3786\"],[0.5555555555555556,\"#d8576b\"],[0.6666666666666666,\"#ed7953\"],[0.7777777777777778,\"#fb9f3a\"],[0.8888888888888888,\"#fdca26\"],[1.0,\"#f0f921\"]]}],\"surface\":[{\"type\":\"surface\",\"colorbar\":{\"outlinewidth\":0,\"ticks\":\"\"},\"colorscale\":[[0.0,\"#0d0887\"],[0.1111111111111111,\"#46039f\"],[0.2222222222222222,\"#7201a8\"],[0.3333333333333333,\"#9c179e\"],[0.4444444444444444,\"#bd3786\"],[0.5555555555555556,\"#d8576b\"],[0.6666666666666666,\"#ed7953\"],[0.7777777777777778,\"#fb9f3a\"],[0.8888888888888888,\"#fdca26\"],[1.0,\"#f0f921\"]]}],\"mesh3d\":[{\"type\":\"mesh3d\",\"colorbar\":{\"outlinewidth\":0,\"ticks\":\"\"}}],\"scatter\":[{\"fillpattern\":{\"fillmode\":\"overlay\",\"size\":10,\"solidity\":0.2},\"type\":\"scatter\"}],\"parcoords\":[{\"type\":\"parcoords\",\"line\":{\"colorbar\":{\"outlinewidth\":0,\"ticks\":\"\"}}}],\"scatterpolargl\":[{\"type\":\"scatterpolargl\",\"marker\":{\"colorbar\":{\"outlinewidth\":0,\"ticks\":\"\"}}}],\"bar\":[{\"error_x\":{\"color\":\"#2a3f5f\"},\"error_y\":{\"color\":\"#2a3f5f\"},\"marker\":{\"line\":{\"color\":\"#E5ECF6\",\"width\":0.5},\"pattern\":{\"fillmode\":\"overlay\",\"size\":10,\"solidity\":0.2}},\"type\":\"bar\"}],\"scattergeo\":[{\"type\":\"scattergeo\",\"marker\":{\"colorbar\":{\"outlinewidth\":0,\"ticks\":\"\"}}}],\"scatterpolar\":[{\"type\":\"scatterpolar\",\"marker\":{\"colorbar\":{\"outlinewidth\":0,\"ticks\":\"\"}}}],\"histogram\":[{\"marker\":{\"pattern\":{\"fillmode\":\"overlay\",\"size\":10,\"solidity\":0.2}},\"type\":\"histogram\"}],\"scattergl\":[{\"type\":\"scattergl\",\"marker\":{\"colorbar\":{\"outlinewidth\":0,\"ticks\":\"\"}}}],\"scatter3d\":[{\"type\":\"scatter3d\",\"line\":{\"colorbar\":{\"outlinewidth\":0,\"ticks\":\"\"}},\"marker\":{\"colorbar\":{\"outlinewidth\":0,\"ticks\":\"\"}}}],\"scattermapbox\":[{\"type\":\"scattermapbox\",\"marker\":{\"colorbar\":{\"outlinewidth\":0,\"ticks\":\"\"}}}],\"scatterternary\":[{\"type\":\"scatterternary\",\"marker\":{\"colorbar\":{\"outlinewidth\":0,\"ticks\":\"\"}}}],\"scattercarpet\":[{\"type\":\"scattercarpet\",\"marker\":{\"colorbar\":{\"outlinewidth\":0,\"ticks\":\"\"}}}],\"carpet\":[{\"aaxis\":{\"endlinecolor\":\"#2a3f5f\",\"gridcolor\":\"white\",\"linecolor\":\"white\",\"minorgridcolor\":\"white\",\"startlinecolor\":\"#2a3f5f\"},\"baxis\":{\"endlinecolor\":\"#2a3f5f\",\"gridcolor\":\"white\",\"linecolor\":\"white\",\"minorgridcolor\":\"white\",\"startlinecolor\":\"#2a3f5f\"},\"type\":\"carpet\"}],\"table\":[{\"cells\":{\"fill\":{\"color\":\"#EBF0F8\"},\"line\":{\"color\":\"white\"}},\"header\":{\"fill\":{\"color\":\"#C8D4E3\"},\"line\":{\"color\":\"white\"}},\"type\":\"table\"}],\"barpolar\":[{\"marker\":{\"line\":{\"color\":\"#E5ECF6\",\"width\":0.5},\"pattern\":{\"fillmode\":\"overlay\",\"size\":10,\"solidity\":0.2}},\"type\":\"barpolar\"}],\"pie\":[{\"automargin\":true,\"type\":\"pie\"}]},\"layout\":{\"autotypenumbers\":\"strict\",\"colorway\":[\"#636efa\",\"#EF553B\",\"#00cc96\",\"#ab63fa\",\"#FFA15A\",\"#19d3f3\",\"#FF6692\",\"#B6E880\",\"#FF97FF\",\"#FECB52\"],\"font\":{\"color\":\"#2a3f5f\"},\"hovermode\":\"closest\",\"hoverlabel\":{\"align\":\"left\"},\"paper_bgcolor\":\"white\",\"plot_bgcolor\":\"#E5ECF6\",\"polar\":{\"bgcolor\":\"#E5ECF6\",\"angularaxis\":{\"gridcolor\":\"white\",\"linecolor\":\"white\",\"ticks\":\"\"},\"radialaxis\":{\"gridcolor\":\"white\",\"linecolor\":\"white\",\"ticks\":\"\"}},\"ternary\":{\"bgcolor\":\"#E5ECF6\",\"aaxis\":{\"gridcolor\":\"white\",\"linecolor\":\"white\",\"ticks\":\"\"},\"baxis\":{\"gridcolor\":\"white\",\"linecolor\":\"white\",\"ticks\":\"\"},\"caxis\":{\"gridcolor\":\"white\",\"linecolor\":\"white\",\"ticks\":\"\"}},\"coloraxis\":{\"colorbar\":{\"outlinewidth\":0,\"ticks\":\"\"}},\"colorscale\":{\"sequential\":[[0.0,\"#0d0887\"],[0.1111111111111111,\"#46039f\"],[0.2222222222222222,\"#7201a8\"],[0.3333333333333333,\"#9c179e\"],[0.4444444444444444,\"#bd3786\"],[0.5555555555555556,\"#d8576b\"],[0.6666666666666666,\"#ed7953\"],[0.7777777777777778,\"#fb9f3a\"],[0.8888888888888888,\"#fdca26\"],[1.0,\"#f0f921\"]],\"sequentialminus\":[[0.0,\"#0d0887\"],[0.1111111111111111,\"#46039f\"],[0.2222222222222222,\"#7201a8\"],[0.3333333333333333,\"#9c179e\"],[0.4444444444444444,\"#bd3786\"],[0.5555555555555556,\"#d8576b\"],[0.6666666666666666,\"#ed7953\"],[0.7777777777777778,\"#fb9f3a\"],[0.8888888888888888,\"#fdca26\"],[1.0,\"#f0f921\"]],\"diverging\":[[0,\"#8e0152\"],[0.1,\"#c51b7d\"],[0.2,\"#de77ae\"],[0.3,\"#f1b6da\"],[0.4,\"#fde0ef\"],[0.5,\"#f7f7f7\"],[0.6,\"#e6f5d0\"],[0.7,\"#b8e186\"],[0.8,\"#7fbc41\"],[0.9,\"#4d9221\"],[1,\"#276419\"]]},\"xaxis\":{\"gridcolor\":\"white\",\"linecolor\":\"white\",\"ticks\":\"\",\"title\":{\"standoff\":15},\"zerolinecolor\":\"white\",\"automargin\":true,\"zerolinewidth\":2},\"yaxis\":{\"gridcolor\":\"white\",\"linecolor\":\"white\",\"ticks\":\"\",\"title\":{\"standoff\":15},\"zerolinecolor\":\"white\",\"automargin\":true,\"zerolinewidth\":2},\"scene\":{\"xaxis\":{\"backgroundcolor\":\"#E5ECF6\",\"gridcolor\":\"white\",\"linecolor\":\"white\",\"showbackground\":true,\"ticks\":\"\",\"zerolinecolor\":\"white\",\"gridwidth\":2},\"yaxis\":{\"backgroundcolor\":\"#E5ECF6\",\"gridcolor\":\"white\",\"linecolor\":\"white\",\"showbackground\":true,\"ticks\":\"\",\"zerolinecolor\":\"white\",\"gridwidth\":2},\"zaxis\":{\"backgroundcolor\":\"#E5ECF6\",\"gridcolor\":\"white\",\"linecolor\":\"white\",\"showbackground\":true,\"ticks\":\"\",\"zerolinecolor\":\"white\",\"gridwidth\":2}},\"shapedefaults\":{\"line\":{\"color\":\"#2a3f5f\"}},\"annotationdefaults\":{\"arrowcolor\":\"#2a3f5f\",\"arrowhead\":0,\"arrowwidth\":1},\"geo\":{\"bgcolor\":\"white\",\"landcolor\":\"#E5ECF6\",\"subunitcolor\":\"white\",\"showland\":true,\"showlakes\":true,\"lakecolor\":\"white\"},\"title\":{\"x\":0.05},\"mapbox\":{\"style\":\"light\"}}}},                        {\"responsive\": true}                    ).then(function(){\n",
              "                            \n",
              "var gd = document.getElementById('6427f31a-c422-4b7d-abe2-d4c8070a4e72');\n",
              "var x = new MutationObserver(function (mutations, observer) {{\n",
              "        var display = window.getComputedStyle(gd).display;\n",
              "        if (!display || display === 'none') {{\n",
              "            console.log([gd, 'removed!']);\n",
              "            Plotly.purge(gd);\n",
              "            observer.disconnect();\n",
              "        }}\n",
              "}});\n",
              "\n",
              "// Listen for the removal of the full notebook cells\n",
              "var notebookContainer = gd.closest('#notebook-container');\n",
              "if (notebookContainer) {{\n",
              "    x.observe(notebookContainer, {childList: true});\n",
              "}}\n",
              "\n",
              "// Listen for the clearing of the current output cell\n",
              "var outputEl = gd.closest('.output');\n",
              "if (outputEl) {{\n",
              "    x.observe(outputEl, {childList: true});\n",
              "}}\n",
              "\n",
              "                        })                };                            </script>        </div>\n",
              "</body>\n",
              "</html>"
            ]
          },
          "metadata": {}
        }
      ]
    },
    {
      "cell_type": "markdown",
      "source": [
        "GRÁFICOS"
      ],
      "metadata": {
        "id": "T_oay-jnvpHj"
      }
    },
    {
      "cell_type": "code",
      "source": [],
      "metadata": {
        "id": "UdYn6u4puAob"
      },
      "execution_count": null,
      "outputs": []
    }
  ]
}